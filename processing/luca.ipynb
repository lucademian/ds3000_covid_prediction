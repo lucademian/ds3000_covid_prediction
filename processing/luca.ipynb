{
 "cells": [
  {
   "cell_type": "code",
   "execution_count": 6,
   "metadata": {},
   "outputs": [],
   "source": [
    "import pandas as pd\n",
    "\n",
    "df = pd.read_csv(\"../data/999_selected_features_60days.csv\", index_col=0)\n",
    "\n",
    "features = df.iloc[:, 1:]\n",
    "target = df.cases_60days"
   ]
  },
  {
   "cell_type": "code",
   "execution_count": 7,
   "metadata": {},
   "outputs": [],
   "source": [
    "from sklearn.model_selection import train_test_split\n",
    "\n",
    "X_train, X_test, y_train, y_test = train_test_split(features, target)"
   ]
  },
  {
   "cell_type": "code",
   "execution_count": 21,
   "metadata": {},
   "outputs": [
    {
     "output_type": "stream",
     "name": "stdout",
     "text": "Linear Regression:\n\tR-squared value for training set:  0.4936771522634782\n\tR-squared value for testing set:  0.3269537351662223\n\nRidge:\n\tR-squared value for training set:  0.45269096344985615\n\tR-squared value for testing set:  0.3176577382284371\n\nLasso:\n\tR-squared value for training set:  0.4585308454711695\n\tR-squared value for testing set:  0.3189119026850671\n\nk-Nearest Neighbor:\n\tR-squared value for training set:  0.6559388171939207\n\tR-squared value for testing set:  0.265121489610776\n\nSupport Vector Machine:\n\tR-squared value for training set:  -0.021995301406087853\n\tR-squared value for testing set:  -0.02191612334885984\n\n"
    }
   ],
   "source": [
    "from sklearn.preprocessing import MinMaxScaler\n",
    "def preprocessed_regression():\n",
    "    #create the scaler\n",
    "    scaler = MinMaxScaler()\n",
    "\n",
    "    #fit the scaler to the training data(features only)\n",
    "    scaler.fit(X_train)\n",
    "\n",
    "    #transform X_train and X_test based on the (same) scaler\n",
    "    X_train_scaled = scaler.transform(X_train)\n",
    "    X_test_scaled = scaler.transform(X_test)\n",
    "\n",
    "    run_estimators(X_train_scaled, y_train, X_test_scaled, y_test)\n",
    "\n",
    "    return X_train_scaled, X_test_scaled\n",
    "X_train, X_test = preprocessed_regression()"
   ]
  },
  {
   "cell_type": "code",
   "execution_count": 22,
   "metadata": {},
   "outputs": [
    {
     "output_type": "stream",
     "name": "stdout",
     "text": "R-squared value for training set:  0.4936771522634782\nR-squared value for testing set:  0.3269537351662223\n"
    }
   ],
   "source": [
    "from sklearn.linear_model import LinearRegression\n",
    "from sklearn.metrics import r2_score\n",
    "\n",
    "estimator = LinearRegression()\n",
    "estimator.fit(X_train, y_train)\n",
    "\n",
    "\n",
    "print(\"R-squared value for training set: \", r2_score(y_train, estimator.predict(X_train)))\n",
    "print(\"R-squared value for testing set: \", r2_score(y_test, estimator.predict(X_test)))"
   ]
  },
  {
   "cell_type": "code",
   "execution_count": 23,
   "metadata": {},
   "outputs": [],
   "source": [
    "from sklearn.linear_model import LinearRegression, Ridge, Lasso\n",
    "from sklearn.neighbors import KNeighborsRegressor\n",
    "from sklearn.svm import LinearSVR\n",
    "\n",
    "estimators = {\n",
    "    \"Linear Regression\": LinearRegression(copy_X=True, fit_intercept=True, n_jobs=None, normalize=False),\n",
    "    \"Ridge\": Ridge(alpha=1.0, copy_X=True, fit_intercept=True, max_iter=None,\n",
    "                    normalize=False, random_state=None, solver='auto', tol=0.001),\n",
    "    \"Lasso\": Lasso(alpha=1.0, copy_X=True, fit_intercept=True, max_iter=1000,\n",
    "                    normalize=False, positive=False, precompute=False, random_state=None,\n",
    "                    selection='cyclic', tol=0.0001, warm_start=False),\n",
    "    \"k-Nearest Neighbor\": KNeighborsRegressor(algorithm='auto', leaf_size=30, metric='minkowski',\n",
    "                                                metric_params=None, n_jobs=None, n_neighbors=5, p=2,\n",
    "                                                weights='uniform'),\n",
    "    \"Support Vector Machine\": LinearSVR(C=1.0, dual=True, epsilon=0.0, fit_intercept=True,\n",
    "                                        intercept_scaling=1.0, loss='epsilon_insensitive', max_iter=1000000,\n",
    "                                        random_state=None, tol=0.0001, verbose=0),\n",
    "}\n",
    "\n",
    "def run_estimators(X_train, y_train, X_test, y_test):\n",
    "    \"\"\"\n",
    "    This helper function runs through the estimators and prints the results with the given data.\n",
    "    \"\"\"\n",
    "    for name, estimator in estimators.items():\n",
    "        estimator.fit(X=X_train, y=y_train)\n",
    "\n",
    "        print(f\"{name}:\")\n",
    "        print(\"\\tR-squared value for training set: \", r2_score(y_train, estimator.predict(X_train)))\n",
    "        print(\"\\tR-squared value for testing set: \", r2_score(y_test, estimator.predict(X_test)), end=\"\\n\\n\")"
   ]
  },
  {
   "cell_type": "code",
   "execution_count": 24,
   "metadata": {},
   "outputs": [
    {
     "output_type": "stream",
     "name": "stdout",
     "text": "Linear Regression:\n\tR-squared value for training set:  0.4936771522634782\n\tR-squared value for testing set:  0.3269537351662223\n\nRidge:\n\tR-squared value for training set:  0.45269096344985615\n\tR-squared value for testing set:  0.3176577382284371\n\nLasso:\n\tR-squared value for training set:  0.4585308454711695\n\tR-squared value for testing set:  0.3189119026850671\n\nk-Nearest Neighbor:\n\tR-squared value for training set:  0.6559388171939207\n\tR-squared value for testing set:  0.265121489610776\n\nSupport Vector Machine:\n\tR-squared value for training set:  -0.021985728357890144\n\tR-squared value for testing set:  -0.02190974504406662\n\n"
    }
   ],
   "source": [
    "run_estimators(X_train, y_train, X_test, y_test)"
   ]
  },
  {
   "cell_type": "code",
   "execution_count": 26,
   "metadata": {},
   "outputs": [],
   "source": [
    "from sklearn.model_selection import GridSearchCV\n",
    "\n",
    "param_grid = {\"n_neighbors\":[1, 5, 10, 15, 20, 25], \"metric\": [\"euclidean\", \"manhattan\", \"minkowski\"]}\n",
    "\n",
    "def grid_search_kNN():\n",
    "  grid_search = GridSearchCV(estimators[\"k-Nearest Neighbor\"], param_grid, cv=5)\n",
    "  grid_search.fit(X=X_train, y=y_train)\n",
    "  print(\"Best parameters: \", grid_search.best_params_)\n",
    "  print(\"Training set score with best parameters: \", grid_search.score(X_train, y_train))\n",
    "  print(\"Test set score with best parameters: \", grid_search.score(X_test, y_test))"
   ]
  },
  {
   "cell_type": "code",
   "execution_count": 27,
   "metadata": {},
   "outputs": [
    {
     "output_type": "stream",
     "name": "stdout",
     "text": "Best parameters:  {'metric': 'manhattan', 'n_neighbors': 5}\nTraining set score with best parameters:  0.6380390822044386\nTest set score with best parameters:  0.29718507978441644\n"
    }
   ],
   "source": [
    "grid_search_kNN()"
   ]
  },
  {
   "cell_type": "code",
   "execution_count": 19,
   "metadata": {},
   "outputs": [],
   "source": []
  },
  {
   "cell_type": "code",
   "execution_count": 20,
   "metadata": {},
   "outputs": [
    {
     "output_type": "stream",
     "name": "stdout",
     "text": "Linear Regression:\n\tR-squared value for training set:  0.4936771522634782\n\tR-squared value for testing set:  0.3269537351662223\n\nRidge:\n\tR-squared value for training set:  0.45269096344985615\n\tR-squared value for testing set:  0.3176577382284371\n\nLasso:\n\tR-squared value for training set:  0.4585308454711695\n\tR-squared value for testing set:  0.3189119026850671\n\nk-Nearest Neighbor:\n\tR-squared value for training set:  0.6559388171939207\n\tR-squared value for testing set:  0.265121489610776\n\nSupport Vector Machine:\n\tR-squared value for training set:  -0.02227640208655579\n\tR-squared value for testing set:  -0.022099411324228546\n\n"
    }
   ],
   "source": []
  },
  {
   "cell_type": "code",
   "execution_count": null,
   "metadata": {},
   "outputs": [],
   "source": []
  }
 ],
 "metadata": {
  "language_info": {
   "codemirror_mode": {
    "name": "ipython",
    "version": 3
   },
   "file_extension": ".py",
   "mimetype": "text/x-python",
   "name": "python",
   "nbconvert_exporter": "python",
   "pygments_lexer": "ipython3",
   "version": "3.8.2-final"
  },
  "orig_nbformat": 2,
  "kernelspec": {
   "name": "python38264bitvenve0b3e47bc4324dd7bd7481b3aace2c47",
   "display_name": "Python 3.8.2 64-bit ('venv')"
  }
 },
 "nbformat": 4,
 "nbformat_minor": 2
}