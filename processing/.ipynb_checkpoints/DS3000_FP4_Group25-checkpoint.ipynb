{
 "cells": [
  {
   "cell_type": "markdown",
   "metadata": {
    "colab_type": "text",
    "id": "KKwuEchADJtk"
   },
   "source": [
    "<center> <h2> DS 3000 - Summer 2020</h2> </center>\n",
    "<center> <h3> DS Report </h3> </center>\n"
   ]
  },
  {
   "cell_type": "markdown",
   "metadata": {
    "colab_type": "text",
    "id": "QImRs7XODJtl"
   },
   "source": [
    "<center> <h3>Predicting COVID-19 Case Count in the United States</h3> </center>\n",
    "<center><h4>Max Breslauer-Friedman and Luca Demian</h4></center>\n"
   ]
  },
  {
   "cell_type": "markdown",
   "metadata": {
    "colab_type": "text",
    "id": "QcvlnvIpDJtm"
   },
   "source": [
    "<hr style=\"height:2px; border:none; color:black; background-color:black;\">"
   ]
  },
  {
   "cell_type": "markdown",
   "metadata": {
    "colab_type": "text",
    "id": "5e6SnzxODJtn"
   },
   "source": [
    "#### Executive Summary:\n",
    "\n",
    "In this project we used data about COVID-19 risk factors to predict case count at a set period of time since the first case in each county we have data on. We collected data from a wide variety of different sources and compiled it into one data set from which we can train our predictive models. We obtained case counts for each county at 60, 70, and 80 days, and compared prediction accuracy between these three levels. We processed the data we collected by scaling it, creating new features, and selecting the best features for prediction. After analyzing our data using different visualizations, we trained 6 different algorithms multiple times each under different conditions, and selected the best 3 on which we performed hyperparameter tuning and final testing. We found that the best algorithm for predicting case count based on our features was Ridge regression, but the difference between Ridge, Lasso, and Linear Regression was negligable. Ultimately we also found that the best length of time to train our models on was 80 days since the first case, with significantly better predictions than when looking at 60 days."
   ]
  },
  {
   "cell_type": "markdown",
   "metadata": {
    "colab_type": "text",
    "id": "F4DAusN_DJtn"
   },
   "source": [
    "<hr style=\"height:2px; border:none; color:black; background-color:black;\">"
   ]
  },
  {
   "cell_type": "markdown",
   "metadata": {
    "colab_type": "text",
    "id": "a_OGQjD2DJto"
   },
   "source": [
    "## Outline\n",
    "1. <a href='#1'>INTRODUCTION</a>\n",
    "2. <a href='#2'>METHOD</a>\n",
    "3. <a href='#3'>RESULTS</a>\n",
    "4. <a href='#4'>DISCUSSION</a>"
   ]
  },
  {
   "cell_type": "markdown",
   "metadata": {
    "colab_type": "text",
    "id": "N5DWruQHDJto"
   },
   "source": [
    "<a id=\"1\"></a>\n",
    "<hr style=\"height:2px; border:none; color:black; background-color:black;\">"
   ]
  },
  {
   "cell_type": "markdown",
   "metadata": {
    "colab_type": "text",
    "id": "BFZDHXwGDJtp"
   },
   "source": [
    "## 1. INTRODUCTION"
   ]
  },
  {
   "cell_type": "markdown",
   "metadata": {
    "colab_type": "text",
    "id": "ByHyU86iDJtp"
   },
   "source": [
    "Our project is focused on the COVID-19 outbreak in the United States, specifically on a county level. The goal of the project is to predict COVID-19 case count based on risk factor data available prior to the outbreak. This is an important goal because the results of this analysis can be extended to help other efforts to predict the severity of this or future outbreaks, and to analyze what could've been done before this pandemic in preparation. Our dataset contains information about almost every county in the United States with its total case count at 60, 70, and 80 days since the first case appeared, as well as demographic data and infrastructure data.\n",
    "\n",
    "\n",
    "Problem Statement\n",
    "\n",
    "For our project, we will use data on different factors that contributed to the spread of COVID-19 in the US to predict the severity of the outbreak based on case count. We will look at these factors in as many different locations as possible (at the county level) in order to get a varied look across the country. We want to learn more about how these factors can be used to predict how bad the pandemic is in different locations, and what could’ve been done ahead of time to potentially lessen the drastic negative consequences of the COVID-19 outbreak. We will remove the variable of time by looking at the same point of the outbreak across all counties when training our models, as measured by days since the first case, to control for the way it appeared in different regions in a non-uniform way. We will predict case counts at three different levels for the number of days since the first case (60, 70, and 80 days) and analyze how prediction accuracy differs between them.\n",
    "\n",
    "\n",
    "Significance of the Problem\n",
    "\n",
    "Given the severity of the virus, solving the problems addressed in the problem statement will hopefully tell us more about what could’ve been done ahead of time in anticipation of a pandemic. Additionally, if we can create a model to accurately  predict  the  severity the COVID-19  pandemic  based  on  prior  factors,  this  could potentially  be extended to forecasting the remainder of the outbreak or predicting other future outbreaks. We haven't found previous work using machine learning in a similar way towards COVID-19, likely because a pandemic of this scale hasn't happened since the inception of machine learning. We did find some work applying machine learning to disease outbreaks, but the models were all based on mostly unrelated variables to what we are analyzing, which is purely demographic data from before the outbreak began (all the work we found used data about the make up of a virus itself or live data).\n",
    "\n",
    "Questions/Hypothesis\n",
    "    \n",
    "Based on our research about the virus and the impact it has had nationwide, we came up with the following research questions to answer:\n",
    "\n",
    "1. How does changing the length of time since the first case appeared in a given county change the accuracy of the predictions from the model?\n",
    "2. What feature is the most influential in predicting the spread of the virus?\n",
    "3. Can the case count actually be predicted accurately based on any information, or is this virus too unpredictable?\n",
    "4. Which features have little to no impact on the spread of the virus? \n",
    "5. If our model is accurate, will it be able to forecast the total case counts in the future, rather than just predicting already existing numbers?\n",
    "6. Based on our data, we think LASSO regression will be the most accurate model, will this be true or will another model be more accurate?\n",
    "\n",
    "**Hypotheses:**\n",
    "\n",
    "Hypotheses about features:\n",
    "- *Null*: All features will have an equal effect on the total number of cases.\n",
    "- *Alternative*: Population density, population, and population aged over 65 will have the biggest effect on the total number of cases.\n",
    "- *Alternative*: The commuting data as well as the education and economic data will have the smallest effect on the total number of cases.\n",
    "- *Alternative*: The population of the county will have the largest effect on the total number of cases.\n",
    "\n",
    "\n",
    "- *Null*: All features are independent and will unique effects on the prediction.\n",
    "- *Alternative*: Many of the features will have similar effects on the data as they are correlated (i.e poverty and income, commuting in and commuting out).\n",
    "\n",
    "Hypotheses about length of time since first case:\n",
    "- *Null*: The accuracy of the model will not fluctuate that much when changing the length of time since the first case appeared in the county.\n",
    "- *Alternative*: The model will vary in accuracy when predicting at different lengths of time since the first case appeared."
   ]
  },
  {
   "cell_type": "markdown",
   "metadata": {
    "colab_type": "text",
    "id": "2ufR1EjdDJtq"
   },
   "source": [
    "## 2. METHOD"
   ]
  },
  {
   "cell_type": "markdown",
   "metadata": {
    "colab_type": "text",
    "id": "aLK1YWp8DJtq"
   },
   "source": [
    "### 2.1. Data Acquisition\n",
    "\n",
    "We sourced our data from a variety of different datasets, visible in the table below. The code we used to consolidate this data is in our Github Repository [here](https://github.com/lucademian/ds3000_covid_prediction/tree/master/data), where there is a series of Jupyter notebooks prefixed by the order we ran them. The folder also contains the raw data and data midway through compiling into a single table. Our dataset includes 24 variables related to the demographics and preparedness of each county prior to the outbreak, as well as various case counts per county. These variables range from income and poverty data to the number of ICU beds in the county. We decided to focus on variables available before the pandemic started, rather than variables after the disease made an appearance, so that our results could theoretically be extended to forecasting future case counts of COVID-19 or be altered to predict future pandemics.\n",
    "\n",
    "#### Data Sources\n",
    "\n",
    "|Data Set|Source|Date|Notebook|Variables|\n",
    "|-|-|-|-|-|\n",
    "|NY Times|[Link](https://github.com/nytimes/covid-19-data/blob/master/us-counties.csv)|May 22, 2020|[000_process_nytimes](https://github.com/lucademian/ds3000_covid_prediction/blob/master/data/000_process_nytimes.ipynb)|`date_0days`, `cases_0days`, `deaths_0days`, `date_60days`, `cases_60days`, `deaths_60days`, `fips`\n",
    "|Kaiser Health|[Link](https://khn.org/news/as-coronavirus-spreads-widely-millions-of-older-americans-live-in-counties-with-no-icu-beds/#lookup)|March 30, 2020|[010_process_kaiser](https://github.com/lucademian/ds3000_covid_prediction/blob/master/data/010_process_kaiser.ipynb)|`icu_beds`, `kaiser_total_population`, `kaiser_60plus_population`\n",
    "|US Census Commuting Data|[Link](https://www.census.gov/data/tables/2015/demo/metro-micro/commuting-flows-2015.html)|2015|[020_uscensus_commuting_flows](https://github.com/lucademian/ds3000_covid_prediction/blob/master/data/020_uscensus_commuting_flows.ipynb)|`commuting_within`, `commuting_out`, `commuting_in`\n",
    "|US Census Population Density|[Link](https://api.census.gov/data/2019/pep/population?get=DENSITY,POP&for=county:*)|2019|[030_uscensus_population_density](https://github.com/lucademian/ds3000_covid_prediction/blob/master/data/030_uscensus_population_density.ipynb)|`density`, `pop_2019`\n",
    "|Political Majority|[Link](https://github.com/tonmcg/US_County_Level_Election_Results_08-16/blob/master/2016_US_County_Level_Presidential_Results.csv)|2016|[040_political_majority](https://github.com/lucademian/ds3000_covid_prediction/blob/master/data/040_political_majority.ipynb)|`percent_democrat`, `percent_gop`\n",
    "|Poverty Data|[Link](https://www.ers.usda.gov/data-products/county-level-data-sets/download-data/)|Feb. 5, 2020|[050_process_poverty](https://github.com/lucademian/ds3000_covid_prediction/blob/master/data/050_process_poverty.ipynb)|`percent_in_poverty`\n",
    "|Age Data|[Link](https://data.census.gov/cedsci/table?q=Older%20Population&hidePreview=true&t=Older%20Population&tid=ACSDP1Y2018.DP05&vintage=2018&g=0100000US.050000)|2018|[060_age_data](https://github.com/lucademian/ds3000_covid_prediction/blob/master/data/060_age_data.ipynb)|`pop_under18`, `pop_over65`, `pop_2018`, `median_age`\n",
    "|Education Data|[Link](https://www.ers.usda.gov/data-products/county-level-data-sets/download-data/)|2018|[070_education_data](https://github.com/lucademian/ds3000_covid_prediction/blob/master/data/070_education_data.ipynb)|`percent_with_bachelors`\n",
    "|Income Data|[Link](https://www.ers.usda.gov/data-products/county-level-data-sets/download-data/)|2018|[080_income_data](https://github.com/lucademian/ds3000_covid_prediction/blob/master/data/060_income_data.ipynb)|`median_income`\n",
    "\n",
    "NOTE: we also got the counts from NY Times for other N day values."
   ]
  },
  {
   "cell_type": "markdown",
   "metadata": {
    "colab_type": "text",
    "id": "YEcXZCW3DJtr"
   },
   "source": [
    "### 2.2. Variables\n",
    "\n",
    "- **IV**: The features used in prediction.\n",
    "- **DV**: The most predictive feature(s).\n",
    "\n",
    "\n",
    "- **IV**: The features used in the prediction.\n",
    "- **DV**: How the effect of each feature on the predicted data is different or correlated with the effect of others.\n",
    "\n",
    "\n",
    "- **IV**: The time since the first case appeared in each county.\n",
    "- **DV**: The prediction accuracy of our model.\n",
    "\n",
    "Our predictive model will predict the target variable of case count based on a number of different features, listed in the table below."
   ]
  },
  {
   "cell_type": "markdown",
   "metadata": {
    "colab_type": "text",
    "id": "lXN4BkZbDJtr"
   },
   "source": [
    "### 2.3. Data Analysis\n",
    "\n",
    "Our predictive model will predict the case count in each county after X days, where X is the number of days since the first case was identified in the county. We plan to try running our model to predict case count at X=60, X=70, and X=80 days, and compare the perfomance between the three. It will predict case count using a number of feature variables, in the table below:\n",
    "\n",
    "|Name|Description|\n",
    "|-|-|\n",
    "|`icu_beds`|Count of ICU beds per county.\n",
    "|`commuting_in`|Population commuting into this county every day.\n",
    "|`commuting_out`|Population commuting out of this county every day.\n",
    "|`commuting_within`|Population commuting within this county every day.\n",
    "|`commuting_ratio`|Population commuting out of this county every day divided by the population commuting within the county.\n",
    "|`density`|A measure of poulation density in this county.\n",
    "|`percent_democrat`|Percentage of 2016 voters voting Democratic.\n",
    "|`percent_in_poverty`|Percentage of county population (all ages) in poverty.\n",
    "|`pop_under18`|Population in county aged under 18.\n",
    "|`pop_over65`|Population in county aged 65+.\n",
    "|`median_age`|Median age for the county.\n",
    "|`percent_with_bachelors`|Percent of people in county attaining a bachelors degree or higher.\n",
    "|`median_income`|A measure of the median income in this county.\n",
    "|`pop_2019`|County population as of 2019.\n",
    "\n",
    "We chose these predictors based on [CDC guidance](https://www.cdc.gov/coronavirus/2019-ncov/covid-data/investigations-discovery/assessing-risk-factors.html) about risk factors for the infection on top of our own judgements about what factors could potentially lead to a worsened outbreak in a county. We hypothesize that population density, population, ICU beds, median income, and population aged 65+ will be the most important variables in our predictive model.\n",
    "\n",
    "This is a supervised machine learning problem because we are using a subset of our data to train the model, where it will have access to the number of cases, the variable to predict, in order to learn. This is a regression problem, because we are predicting the case count, a continuous variable.\n",
    "\n",
    "We are going to use the LASSO, Ridge, Support Vector Machine, and k-Nearest Neighbor regression algorithms because this is a regression problem and we want to test a variety of different models. We think LASSO regression will make most accurate predictions because we have more control over the tuning of the model and it will automatically select the most important features."
   ]
  },
  {
   "cell_type": "markdown",
   "metadata": {
    "colab_type": "text",
    "id": "mCAwGxDIDJts"
   },
   "source": [
    "<a id=\"3\"></a>\n",
    "<hr style=\"height:2px; border:none; color:black; background-color:black;\">"
   ]
  },
  {
   "cell_type": "markdown",
   "metadata": {
    "colab_type": "text",
    "id": "dOcNDAcPDJtt"
   },
   "source": [
    "## 3. RESULTS"
   ]
  },
  {
   "cell_type": "markdown",
   "metadata": {
    "colab_type": "text",
    "id": "bcYwM7KuDJtu"
   },
   "source": [
    "### 3.1. Data Wrangling\n",
    "In this section, you should do the following and explain why you are doing what you are doing. For each, you should include your code in a cell, followed by a sample output. For instance, if you are one-hot encoding one of your variables, you should first describe what it is and why you are doing it. You should then include your code in a cell, and the sample output should be available as well.\n",
    "\n",
    "* Perform simple data cleaning (delete extra columns, deal with NA values, etc.)\n",
    "* Perform data wrangling to get your features and target values (e.g., grouping your dataframe by columns, applying functions to format dataframes, etc.)\n",
    "* Preprocess your variables (e.g., scaling/transforming feature variables to normalize them)\n",
    "* Perform feature extraction (dummy variables, new features from existing features, etc.)\n",
    "* Use one feature selection technique to select a subset of your original features"
   ]
  },
  {
   "cell_type": "markdown",
   "metadata": {
    "colab_type": "text",
    "id": "JoAklvbKDJtu"
   },
   "source": [
    "We performed data cleaning and wrangling as part of our data acquisition, because our data is coming from so many distinct sources. This selection process can be seen in our [notebook on Github](https://github.com/lucademian/ds3000_covid_prediction/blob/master/data/999_feature_selection.ipynb), and the final data with the features and target variable is selected below. We extracted a new feature from the existing commuting out and commuting within features, which is the ratio of people commuting out to people commuting within. This new feature is called `commuting_ratio`."
   ]
  },
  {
   "cell_type": "code",
   "execution_count": 2,
   "metadata": {
    "colab": {
     "base_uri": "https://localhost:8080/",
     "height": 202
    },
    "colab_type": "code",
    "id": "End2525TDJtu",
    "outputId": "dd891dd6-a18a-4464-943d-f0d6d396de88"
   },
   "outputs": [
    {
     "data": {
      "text/html": [
       "<div>\n",
       "<style scoped>\n",
       "    .dataframe tbody tr th:only-of-type {\n",
       "        vertical-align: middle;\n",
       "    }\n",
       "\n",
       "    .dataframe tbody tr th {\n",
       "        vertical-align: top;\n",
       "    }\n",
       "\n",
       "    .dataframe thead th {\n",
       "        text-align: right;\n",
       "    }\n",
       "</style>\n",
       "<table border=\"1\" class=\"dataframe\">\n",
       "  <thead>\n",
       "    <tr style=\"text-align: right;\">\n",
       "      <th></th>\n",
       "      <th>commuting_ratio</th>\n",
       "      <th>icu_beds</th>\n",
       "      <th>commuting_in</th>\n",
       "      <th>commuting_out</th>\n",
       "      <th>commuting_within</th>\n",
       "      <th>density</th>\n",
       "      <th>percent_democrat</th>\n",
       "      <th>percent_in_poverty</th>\n",
       "      <th>pop_under18</th>\n",
       "      <th>pop_over65</th>\n",
       "      <th>median_age</th>\n",
       "      <th>percent_with_bachelors</th>\n",
       "      <th>median_income</th>\n",
       "      <th>pop_2019</th>\n",
       "      <th>cases_60days</th>\n",
       "      <th>cases_70days</th>\n",
       "      <th>cases_80days</th>\n",
       "      <th>fips</th>\n",
       "    </tr>\n",
       "  </thead>\n",
       "  <tbody>\n",
       "    <tr>\n",
       "      <td>0</td>\n",
       "      <td>0.559669</td>\n",
       "      <td>72</td>\n",
       "      <td>54070</td>\n",
       "      <td>130657</td>\n",
       "      <td>233454</td>\n",
       "      <td>393.996419</td>\n",
       "      <td>0.542634</td>\n",
       "      <td>7.5</td>\n",
       "      <td>180294</td>\n",
       "      <td>99868</td>\n",
       "      <td>37.8</td>\n",
       "      <td>31.9</td>\n",
       "      <td>87096</td>\n",
       "      <td>822083</td>\n",
       "      <td>446.0</td>\n",
       "      <td>1228.0</td>\n",
       "      <td>1801.0</td>\n",
       "      <td>53061</td>\n",
       "    </tr>\n",
       "    <tr>\n",
       "      <td>3</td>\n",
       "      <td>0.151523</td>\n",
       "      <td>1606</td>\n",
       "      <td>489235</td>\n",
       "      <td>317505</td>\n",
       "      <td>2095418</td>\n",
       "      <td>5450.384359</td>\n",
       "      <td>0.743758</td>\n",
       "      <td>13.8</td>\n",
       "      <td>1160425</td>\n",
       "      <td>724730</td>\n",
       "      <td>36.6</td>\n",
       "      <td>38.0</td>\n",
       "      <td>63347</td>\n",
       "      <td>5150233</td>\n",
       "      <td>1194.0</td>\n",
       "      <td>6473.0</td>\n",
       "      <td>15474.0</td>\n",
       "      <td>17031</td>\n",
       "    </tr>\n",
       "    <tr>\n",
       "      <td>6</td>\n",
       "      <td>0.189301</td>\n",
       "      <td>651</td>\n",
       "      <td>317959</td>\n",
       "      <td>235247</td>\n",
       "      <td>1242712</td>\n",
       "      <td>4005.616646</td>\n",
       "      <td>0.509602</td>\n",
       "      <td>10.5</td>\n",
       "      <td>711188</td>\n",
       "      <td>440488</td>\n",
       "      <td>37.8</td>\n",
       "      <td>39.9</td>\n",
       "      <td>89373</td>\n",
       "      <td>3175692</td>\n",
       "      <td>187.0</td>\n",
       "      <td>786.0</td>\n",
       "      <td>1299.0</td>\n",
       "      <td>6059</td>\n",
       "    </tr>\n",
       "    <tr>\n",
       "      <td>9</td>\n",
       "      <td>0.023281</td>\n",
       "      <td>1004</td>\n",
       "      <td>79525</td>\n",
       "      <td>40810</td>\n",
       "      <td>1752902</td>\n",
       "      <td>487.509549</td>\n",
       "      <td>0.456797</td>\n",
       "      <td>12.3</td>\n",
       "      <td>1042245</td>\n",
       "      <td>615277</td>\n",
       "      <td>36.1</td>\n",
       "      <td>32.0</td>\n",
       "      <td>65234</td>\n",
       "      <td>4485414</td>\n",
       "      <td>299.0</td>\n",
       "      <td>1326.0</td>\n",
       "      <td>2146.0</td>\n",
       "      <td>4013</td>\n",
       "    </tr>\n",
       "    <tr>\n",
       "      <td>12</td>\n",
       "      <td>0.080023</td>\n",
       "      <td>2126</td>\n",
       "      <td>483659</td>\n",
       "      <td>334665</td>\n",
       "      <td>4182123</td>\n",
       "      <td>2473.507350</td>\n",
       "      <td>0.714072</td>\n",
       "      <td>14.2</td>\n",
       "      <td>2246521</td>\n",
       "      <td>1299277</td>\n",
       "      <td>36.2</td>\n",
       "      <td>31.8</td>\n",
       "      <td>67986</td>\n",
       "      <td>10039107</td>\n",
       "      <td>1216.0</td>\n",
       "      <td>5940.0</td>\n",
       "      <td>10496.0</td>\n",
       "      <td>6037</td>\n",
       "    </tr>\n",
       "  </tbody>\n",
       "</table>\n",
       "</div>"
      ],
      "text/plain": [
       "    commuting_ratio  icu_beds  commuting_in  commuting_out  commuting_within  \\\n",
       "0          0.559669        72         54070         130657            233454   \n",
       "3          0.151523      1606        489235         317505           2095418   \n",
       "6          0.189301       651        317959         235247           1242712   \n",
       "9          0.023281      1004         79525          40810           1752902   \n",
       "12         0.080023      2126        483659         334665           4182123   \n",
       "\n",
       "        density  percent_democrat  percent_in_poverty  pop_under18  \\\n",
       "0    393.996419          0.542634                 7.5       180294   \n",
       "3   5450.384359          0.743758                13.8      1160425   \n",
       "6   4005.616646          0.509602                10.5       711188   \n",
       "9    487.509549          0.456797                12.3      1042245   \n",
       "12  2473.507350          0.714072                14.2      2246521   \n",
       "\n",
       "    pop_over65  median_age  percent_with_bachelors  median_income  pop_2019  \\\n",
       "0        99868        37.8                    31.9          87096    822083   \n",
       "3       724730        36.6                    38.0          63347   5150233   \n",
       "6       440488        37.8                    39.9          89373   3175692   \n",
       "9       615277        36.1                    32.0          65234   4485414   \n",
       "12     1299277        36.2                    31.8          67986  10039107   \n",
       "\n",
       "    cases_60days  cases_70days  cases_80days   fips  \n",
       "0          446.0        1228.0        1801.0  53061  \n",
       "3         1194.0        6473.0       15474.0  17031  \n",
       "6          187.0         786.0        1299.0   6059  \n",
       "9          299.0        1326.0        2146.0   4013  \n",
       "12        1216.0        5940.0       10496.0   6037  "
      ]
     },
     "execution_count": 2,
     "metadata": {},
     "output_type": "execute_result"
    }
   ],
   "source": [
    "import pandas as pd\n",
    "import requests\n",
    "\n",
    "DATA_URL = \"https://raw.githubusercontent.com/lucademian/ds3000_covid_prediction/master/data/999_selected_features_60-70-80days.csv?token=ADDEA5VGC2CO7OOZREVREFK65ZXY4\"\n",
    "df = pd.read_csv(DATA_URL, index_col=0)\n",
    "\n",
    "df.insert(loc=0, column=\"commuting_ratio\", value=df.commuting_out / df.commuting_within)\n",
    "\n",
    "df.head()"
   ]
  },
  {
   "cell_type": "markdown",
   "metadata": {
    "colab_type": "text",
    "id": "8vlb16vqDJty"
   },
   "source": [
    "First, we separated our features from the targets. We have 3 different target columns, for each of the different N-day values we will look at. We decided to use the Min-Max Scaler to standardize our data, because the scales for our data are so different. Our function below (`get_features_target`) applies this scaler and will remove NaN values for the features and target at the given number of days since the first case, because the more you increase the number of days the more NaN values there are."
   ]
  },
  {
   "cell_type": "code",
   "execution_count": 3,
   "metadata": {
    "colab": {},
    "colab_type": "code",
    "id": "2yv9jSrODJty"
   },
   "outputs": [],
   "source": [
    "from sklearn.preprocessing import MinMaxScaler\n",
    "\n",
    "def get_features_target(n_days, k_best=None, scale=True):\n",
    "    \"\"\"\n",
    "    This function takes in a N-day value and returns the features and target\n",
    "    for that value as a tuple: (features, target). The features are scaled using\n",
    "    the Min-Max scaler.\n",
    "    \"\"\"\n",
    "\n",
    "    target_column = f\"cases_{n_days}days\"\n",
    "    \n",
    "    # our first 13 columns are features, and the \n",
    "    # last N columns are the different targets.\n",
    "    features = df.loc[df[target_column].notna()].iloc[:, 0:14]\n",
    "    target = df[target_column].dropna()\n",
    "\n",
    "    if k_best is not None:\n",
    "        # if the k_best are requested, use the k_best_features function to select the best features and filter\n",
    "        selected_names = k_best_features(k_best, features, target)\n",
    "        features = df.loc[df[target_column].notna(), selected_names]\n",
    "\n",
    "    if not scale:\n",
    "        return features, target\n",
    "    \n",
    "    # create a scaler object and fit to the features\n",
    "    scaler = MinMaxScaler()\n",
    "    scaler.fit(features)\n",
    "\n",
    "    # transform the features using the scaler\n",
    "    features_scaled = scaler.transform(features)\n",
    "    \n",
    "    return features_scaled, target"
   ]
  },
  {
   "cell_type": "code",
   "execution_count": 4,
   "metadata": {},
   "outputs": [
    {
     "data": {
      "text/plain": [
       "(array([[7.45615954e-02, 3.38664158e-02, 1.03824832e-01, ...,\n",
       "         3.82947977e-01, 5.36631390e-01, 8.18194651e-02],\n",
       "        [1.94702801e-02, 7.55409219e-01, 9.39719323e-01, ...,\n",
       "         4.71098266e-01, 3.30112959e-01, 5.12980660e-01],\n",
       "        [2.45695149e-02, 3.06208843e-01, 6.10720748e-01, ...,\n",
       "         4.98554913e-01, 5.56431907e-01, 3.16281041e-01],\n",
       "        ...,\n",
       "        [2.54201705e-02, 0.00000000e+00, 2.76220808e-03, ...,\n",
       "         1.61849711e-01, 1.96813830e-01, 4.28954659e-04],\n",
       "        [7.26955803e-02, 0.00000000e+00, 7.03037661e-04, ...,\n",
       "         1.67630058e-01, 1.88387523e-01, 7.89870295e-04],\n",
       "        [6.31017161e-02, 0.00000000e+00, 3.15022340e-04, ...,\n",
       "         1.80635838e-01, 1.87630982e-01, 2.04017450e-04]]), 0        446.0\n",
       " 3       1194.0\n",
       " 6        187.0\n",
       " 9        299.0\n",
       " 12      1216.0\n",
       "          ...  \n",
       " 8268       2.0\n",
       " 8271       1.0\n",
       " 8274      15.0\n",
       " 8277       9.0\n",
       " 8280       5.0\n",
       " Name: cases_60days, Length: 2710, dtype: float64)"
      ]
     },
     "execution_count": 4,
     "metadata": {},
     "output_type": "execute_result"
    }
   ],
   "source": [
    "# sample output\n",
    "get_features_target(60)"
   ]
  },
  {
   "cell_type": "markdown",
   "metadata": {
    "colab_type": "text",
    "id": "Yp_Zd_h2DpG1"
   },
   "source": [
    "Then, we performed feature selection using the SelectKBest algorithm based on F-value\n",
    "for each feature."
   ]
  },
  {
   "cell_type": "code",
   "execution_count": 3,
   "metadata": {
    "colab": {},
    "colab_type": "code",
    "id": "DJDzdXgnDqm8"
   },
   "outputs": [],
   "source": [
    "from sklearn.feature_selection import SelectKBest, f_regression\n",
    "from sklearn.model_selection import train_test_split\n",
    "\n",
    "def k_best_features(k, features, target):\n",
    "    \n",
    "    X_train, X_test, y_train, y_test = train_test_split(features, target, random_state=3000)\n",
    "  \n",
    "    selector = SelectKBest(f_regression, k = k)\n",
    "    selector.fit(X_train, y_train)\n",
    "\n",
    "    selected = selector.get_support()\n",
    "  \n",
    "    columns = []\n",
    "    for i in range(len(selected)):\n",
    "      if selected[i]:\n",
    "        columns.append(df.columns[i])\n",
    "\n",
    "    return columns"
   ]
  },
  {
   "cell_type": "code",
   "execution_count": 7,
   "metadata": {},
   "outputs": [
    {
     "name": "stdout",
     "output_type": "stream",
     "text": [
      "['commuting_in', 'commuting_out', 'density', 'pop_over65', 'pop_2019']\n"
     ]
    }
   ],
   "source": [
    "print(k_best_features(5, *get_features_target(70)))"
   ]
  },
  {
   "cell_type": "markdown",
   "metadata": {},
   "source": [
    "This shows us that the 5 most important features in our prediction will be: `commuting_in`, `commuting_out`, `density`, `pop_over65`, `pop_2019`"
   ]
  },
  {
   "cell_type": "markdown",
   "metadata": {
    "colab_type": "text",
    "id": "FI4fjyTADJt0"
   },
   "source": [
    "### 3.2. Data Exploration\n",
    "* Generate appropriate data visualizations for your key variables identified in the previous section\n",
    "* You should have at least three visualizations (and at least two different visualization types)\n",
    "* For each visualization provide an explanation regarding the variables involved and an interpretation of the graph.\n",
    "* If you are using Plotly, insert your visualizations as images as well (upload the graph images to an online source, e.g. github, and embed those into the cells in Jupyter Notebook)\n"
   ]
  },
  {
   "cell_type": "code",
   "execution_count": 6,
   "metadata": {
    "colab": {
     "base_uri": "https://localhost:8080/",
     "height": 845
    },
    "colab_type": "code",
    "id": "hcAaCf8fGH2i",
    "outputId": "cf27c5a2-f683-446f-f5bb-606398e365b2"
   },
   "outputs": [
    {
     "data": {
      "image/png": "[encoded data removed]",
      "text/plain": [
       "<Figure size 432x288 with 1 Axes>"
      ]
     },
     "metadata": {},
     "output_type": "display_data"
    },
    {
     "data": {
      "image/png": "[encoded data removed]",
      "text/plain": [
       "<Figure size 576x576 with 1 Axes>"
      ]
     },
     "metadata": {},
     "output_type": "display_data"
    }
   ],
   "source": [
    "import matplotlib.pyplot as plt\n",
    "import seaborn as sns\n",
    "from seaborn import scatterplot\n",
    "\n",
    "sns.set(style=\"white\")\n",
    "avg_cases = sum(df[\"cases_70days\"].dropna())/len(df[\"cases_70days\"].dropna())\n",
    "sns.scatterplot(data = df, x = 'percent_in_poverty', y = 'median_income', size='cases_70days', sizes=(20, 300), hue = 'cases_70days', hue_norm = (0, avg_cases))\n",
    "plt.xlabel(\"Percent in Poverty\")\n",
    "plt.ylabel(\"Median Income\")\n",
    "plt.title(\"Median Income vs. Percent in Poverty in each county\")\n",
    "plt.savefig(\"incomevspoverty.png\")\n",
    "\n",
    "plt.figure(figsize = (8,8))\n",
    "plt.scatter(x=df['commuting_in'], y=df['commuting_out'])\n",
    "plt.xlabel(\"Population commuting into the county each day\")\n",
    "plt.ylabel(\"Population commuting out of the county each day\")\n",
    "plt.title(\"Population Commuting out vs. Population Commuting into each county\")\n",
    "plt.savefig(\"commuting.png\")\n",
    "plt.show()"
   ]
  },
  {
   "cell_type": "markdown",
   "metadata": {
    "colab_type": "text",
    "id": "MlUE_oFaFSiC"
   },
   "source": [
    "For our first visualization, we decided to see if a visualization could help support our hypothesis. In one hypothesis we predicted that a few of the features would have similar effects on the target variable as the data between them was directly correlated. We first visualized the percent of the population in poverty and the median income. As you can see, there is a distinct correlation between the two variables. We also visualized the data for the number of people commuting into the county versus the number of people commuting out of the county each day. Based on the plot, we can see that there is a positive correlation between the two features, and while it is not an extremely strong correlation, it is close enough to believe that the two features will have relatively similar effects on the target variable. "
   ]
  },
  {
   "cell_type": "code",
   "execution_count": 7,
   "metadata": {
    "colab": {
     "base_uri": "https://localhost:8080/",
     "height": 326
    },
    "colab_type": "code",
    "id": "QIB3Ju_yLu6H",
    "outputId": "b3a6ef42-e4c9-4471-9b9f-82b8d7f6aa14"
   },
   "outputs": [
    {
     "data": {
      "image/png": "[encoded data removed]",
      "text/plain": [
       "<Figure size 576x576 with 2 Axes>"
      ]
     },
     "metadata": {},
     "output_type": "display_data"
    }
   ],
   "source": [
    "import numpy as np\n",
    "day_counts = (60, 70, 80)\n",
    "\n",
    "df_rows = [{\n",
    "  \"n_counties\": len(get_features_target(N, scale=False)[0]),\n",
    "  \"total_cases\": get_features_target(N, scale=False)[1].sum()\n",
    "} for N in day_counts]\n",
    "\n",
    "bar_df = pd.DataFrame(df_rows, index=day_counts)\n",
    "\n",
    "fig = plt.figure(figsize = (8,8)) # Create matplotlib figure\n",
    "\n",
    "ax = fig.add_subplot(111) # Create matplotlib axes\n",
    "ax2 = ax.twinx() # Create another axes that shares the same x-axis as ax.\n",
    "\n",
    "width = 0.3\n",
    "\n",
    "ax.set_ylim(top = 4000)\n",
    "ax2.set_ylim(top = 2000000)\n",
    "\n",
    "bar_df.n_counties.plot(kind='bar', color='red', ax=ax, width=width, position=1, align='center')\n",
    "bar_df.total_cases.plot(kind='bar', color='blue', ax=ax2, width=width, position=0, align='center')\n",
    "\n",
    "ax.set_ylabel('Number of Counties')\n",
    "ax2.set_ylabel('Total Case Count')\n",
    "\n",
    "# Create names on the x-axis\n",
    "y_pos = range(3)\n",
    "plt.xticks(y_pos, [f\"{N} days\" for N in day_counts])\n",
    "\n",
    "plt.title(\"Comparing The Number of Counties and Total \\nNumber of Cases at Each N-Day Value\")\n",
    "\n",
    "ax.legend(loc=2)\n",
    "ax2.legend(loc=0)\n",
    "\n",
    "plt.savefig(\"countiesvstotals.png\")\n",
    "\n",
    "# Show graphic\n",
    "plt.show()"
   ]
  },
  {
   "cell_type": "markdown",
   "metadata": {},
   "source": [
    "There is an inverse relationship between the number of counties and the number of days since the first case appeared. This tells us a few things about the virus as well as our to-be model. Seen in the plot, as the number of counties decrease, the number of cases increase, showing that there are some counties that have had cases for longer and therefore have more cases, that balance out the effect of looking at fewer counties. This plot also leads us to believe that the model trained on sixty days worth of data will be more accurate in predicting the case counts, than the models trained on the longer time frames. This is due to the fact that in the longer time frame, there are less data samples to train the model with."
   ]
  },
  {
   "cell_type": "code",
   "execution_count": 12,
   "metadata": {},
   "outputs": [],
   "source": [
    "import plotly.figure_factory as ff\n",
    "\n",
    "temp_df = df.dropna()\n",
    "\n",
    "fips = temp_df[\"fips\"]\n",
    "\n",
    "colorscale = [\n",
    "    'rgb(193, 193, 193)',\n",
    "    'rgb(239,239,239)',\n",
    "    'rgb(195, 196, 222)',\n",
    "    'rgb(144,148,194)',\n",
    "    'rgb(101,104,168)',\n",
    "    'rgb(65, 53, 132)'\n",
    "]\n",
    "\n",
    "def draw_map(feature_name, binning_endpoints):\n",
    "    values = temp_df[feature_name]\n",
    "    fig = ff.create_choropleth(fips=fips, values=values, binning_endpoints=binning_endpoints,\n",
    "        county_outline={'color': 'rgb(255,255,255)', 'width': 0.25}, round_legend_values=True, colorscale=colorscale)\n",
    "    fig.layout.template = None\n",
    "    fig.write_image(feature_name+\"choropleth.png\")\n",
    "    fig.show()"
   ]
  },
  {
   "cell_type": "code",
   "execution_count": 13,
   "metadata": {},
   "outputs": [
    {
     "ename": "ValueError",
     "evalue": "\nThe orca executable is required to export figures as static images,\nbut it could not be found on the system path.\n\nSearched for executable 'orca' on the following path:\n    C:\\Users\\maxnb\\Anaconda3\\lib\\site-packages\\shapely\\DLLs\n    C:\\Users\\maxnb\\Anaconda3\\DLLs\n    C:\\Users\\maxnb\\Anaconda3\n    C:\\Users\\maxnb\\Anaconda3\\Library\\mingw-w64\\bin\n    C:\\Users\\maxnb\\Anaconda3\\Library\\usr\\bin\n    C:\\Users\\maxnb\\Anaconda3\\Library\\bin\n    C:\\Users\\maxnb\\Anaconda3\\Scripts\n    C:\\Users\\maxnb\\Anaconda3\\bin\n    C:\\Users\\maxnb\\Anaconda3\\condabin\n    C:\\Windows\\system32\n    C:\\Windows\n    C:\\Windows\\System32\\Wbem\n    C:\\Windows\\System32\\WindowsPowerShell\\v1.0\n    C:\\Windows\\System32\\OpenSSH\n    C:\\Program Files (x86)\\Intel\\Intel(R) Management Engine Components\\DAL\n    C:\\Program Files\\Intel\\Intel(R) Management Engine Components\\DAL\n    C:\\Program Files (x86)\\NVIDIA Corporation\\PhysX\\Common\n    C:\\Program Files\\NVIDIA Corporation\\NVIDIA NvDLISR\n    C:\\Program Files\\Git\\cmd\n    C:\\Program Files\\Java\\jdk-11.0.5\\bin\n    C:\\Users\\maxnb\\AppData\\Local\\Programs\\Python\\Python38-32\\Scripts\n    C:\\Users\\maxnb\\AppData\\Local\\Programs\\Python\\Python38-32\n    C:\\Users\\maxnb\\Anaconda3\n    C:\\Users\\maxnb\\Anaconda3\\Library\\mingw-w64\\bin\n    C:\\Users\\maxnb\\Anaconda3\\Library\\usr\\bin\n    C:\\Users\\maxnb\\Anaconda3\\Library\\bin\n    C:\\Users\\maxnb\\Anaconda3\\Scripts\n    C:\\Users\\maxnb\\AppData\\Local\\Microsoft\\WindowsApps\n    C:\\Users\\maxnb\\AppData\\Local\\GitHubDesktop\\bin\n    C:\\Users\\maxnb\\OneDrive\\Desktop\\Microsoft VS Code\\bin\n    C:\\Program Files\\JetBrains\\PyCharm Community Edition 2019.3.1\\bin\n    .\n    C:\\Users\\maxnb\\AppData\\Local\\atom\\bin\n    C:\\Users\\maxnb\\Anaconda3\\lib\\site-packages\\fiona\\.libs\n\nIf you haven't installed orca yet, you can do so using conda as follows:\n\n    $ conda install -c plotly plotly-orca\n\nAlternatively, see other installation methods in the orca project README at\nhttps://github.com/plotly/orca\n\nAfter installation is complete, no further configuration should be needed.\n\nIf you have installed orca, then for some reason plotly.py was unable to\nlocate it. In this case, set the `plotly.io.orca.config.executable`\nproperty to the full path of your orca executable. For example:\n\n    >>> plotly.io.orca.config.executable = '/path/to/orca'\n\nAfter updating this executable property, try the export operation again.\nIf it is successful then you may want to save this configuration so that it\nwill be applied automatically in future sessions. You can do this as follows:\n\n    >>> plotly.io.orca.config.save()\n\nIf you're still having trouble, feel free to ask for help on the forums at\nhttps://community.plot.ly/c/api/python\n",
     "output_type": "error",
     "traceback": [
      "\u001b[1;31m---------------------------------------------------------------------------\u001b[0m",
      "\u001b[1;31mValueError\u001b[0m                                Traceback (most recent call last)",
      "\u001b[1;32m<ipython-input-13-50ee53f30896>\u001b[0m in \u001b[0;36m<module>\u001b[1;34m\u001b[0m\n\u001b[1;32m----> 1\u001b[1;33m \u001b[0mdraw_map\u001b[0m\u001b[1;33m(\u001b[0m\u001b[1;34m\"density\"\u001b[0m\u001b[1;33m,\u001b[0m \u001b[1;33m[\u001b[0m\u001b[1;36m50\u001b[0m\u001b[1;33m,\u001b[0m \u001b[1;36m150\u001b[0m\u001b[1;33m,\u001b[0m \u001b[1;36m300\u001b[0m\u001b[1;33m,\u001b[0m \u001b[1;36m500\u001b[0m\u001b[1;33m,\u001b[0m \u001b[1;36m1000\u001b[0m\u001b[1;33m]\u001b[0m\u001b[1;33m)\u001b[0m\u001b[1;33m\u001b[0m\u001b[1;33m\u001b[0m\u001b[0m\n\u001b[0m\u001b[0;32m      2\u001b[0m \u001b[0mdraw_map\u001b[0m\u001b[1;33m(\u001b[0m\u001b[1;34m\"cases_60days\"\u001b[0m\u001b[1;33m,\u001b[0m \u001b[1;33m[\u001b[0m\u001b[1;36m300\u001b[0m\u001b[1;33m,\u001b[0m \u001b[1;36m500\u001b[0m\u001b[1;33m,\u001b[0m \u001b[1;36m1000\u001b[0m\u001b[1;33m,\u001b[0m \u001b[1;36m3000\u001b[0m\u001b[1;33m,\u001b[0m \u001b[1;36m7000\u001b[0m\u001b[1;33m]\u001b[0m\u001b[1;33m)\u001b[0m\u001b[1;33m\u001b[0m\u001b[1;33m\u001b[0m\u001b[0m\n\u001b[0;32m      3\u001b[0m \u001b[0mdraw_map\u001b[0m\u001b[1;33m(\u001b[0m\u001b[1;34m\"icu_beds\"\u001b[0m\u001b[1;33m,\u001b[0m \u001b[1;33m[\u001b[0m\u001b[1;36m10\u001b[0m\u001b[1;33m,\u001b[0m \u001b[1;36m30\u001b[0m\u001b[1;33m,\u001b[0m \u001b[1;36m60\u001b[0m\u001b[1;33m,\u001b[0m \u001b[1;36m100\u001b[0m\u001b[1;33m,\u001b[0m \u001b[1;36m200\u001b[0m\u001b[1;33m]\u001b[0m\u001b[1;33m)\u001b[0m\u001b[1;33m\u001b[0m\u001b[1;33m\u001b[0m\u001b[0m\n",
      "\u001b[1;32m<ipython-input-12-ad7fd8d7067a>\u001b[0m in \u001b[0;36mdraw_map\u001b[1;34m(feature_name, binning_endpoints)\u001b[0m\n\u001b[0;32m     19\u001b[0m         county_outline={'color': 'rgb(255,255,255)', 'width': 0.25}, round_legend_values=True, colorscale=colorscale)\n\u001b[0;32m     20\u001b[0m     \u001b[0mfig\u001b[0m\u001b[1;33m.\u001b[0m\u001b[0mlayout\u001b[0m\u001b[1;33m.\u001b[0m\u001b[0mtemplate\u001b[0m \u001b[1;33m=\u001b[0m \u001b[1;32mNone\u001b[0m\u001b[1;33m\u001b[0m\u001b[1;33m\u001b[0m\u001b[0m\n\u001b[1;32m---> 21\u001b[1;33m     \u001b[0mfig\u001b[0m\u001b[1;33m.\u001b[0m\u001b[0mwrite_image\u001b[0m\u001b[1;33m(\u001b[0m\u001b[0mfeature_name\u001b[0m\u001b[1;33m+\u001b[0m\u001b[1;34m\"choropleth.png\"\u001b[0m\u001b[1;33m)\u001b[0m\u001b[1;33m\u001b[0m\u001b[1;33m\u001b[0m\u001b[0m\n\u001b[0m\u001b[0;32m     22\u001b[0m     \u001b[0mfig\u001b[0m\u001b[1;33m.\u001b[0m\u001b[0mshow\u001b[0m\u001b[1;33m(\u001b[0m\u001b[1;33m)\u001b[0m\u001b[1;33m\u001b[0m\u001b[1;33m\u001b[0m\u001b[0m\n",
      "\u001b[1;32m~\\Anaconda3\\lib\\site-packages\\plotly\\basedatatypes.py\u001b[0m in \u001b[0;36mwrite_image\u001b[1;34m(self, *args, **kwargs)\u001b[0m\n\u001b[0;32m   3191\u001b[0m         \u001b[1;32mimport\u001b[0m \u001b[0mplotly\u001b[0m\u001b[1;33m.\u001b[0m\u001b[0mio\u001b[0m \u001b[1;32mas\u001b[0m \u001b[0mpio\u001b[0m\u001b[1;33m\u001b[0m\u001b[1;33m\u001b[0m\u001b[0m\n\u001b[0;32m   3192\u001b[0m \u001b[1;33m\u001b[0m\u001b[0m\n\u001b[1;32m-> 3193\u001b[1;33m         \u001b[1;32mreturn\u001b[0m \u001b[0mpio\u001b[0m\u001b[1;33m.\u001b[0m\u001b[0mwrite_image\u001b[0m\u001b[1;33m(\u001b[0m\u001b[0mself\u001b[0m\u001b[1;33m,\u001b[0m \u001b[1;33m*\u001b[0m\u001b[0margs\u001b[0m\u001b[1;33m,\u001b[0m \u001b[1;33m**\u001b[0m\u001b[0mkwargs\u001b[0m\u001b[1;33m)\u001b[0m\u001b[1;33m\u001b[0m\u001b[1;33m\u001b[0m\u001b[0m\n\u001b[0m\u001b[0;32m   3194\u001b[0m \u001b[1;33m\u001b[0m\u001b[0m\n\u001b[0;32m   3195\u001b[0m     \u001b[1;31m# Static helpers\u001b[0m\u001b[1;33m\u001b[0m\u001b[1;33m\u001b[0m\u001b[1;33m\u001b[0m\u001b[0m\n",
      "\u001b[1;32m~\\Anaconda3\\lib\\site-packages\\plotly\\io\\_orca.py\u001b[0m in \u001b[0;36mwrite_image\u001b[1;34m(fig, file, format, scale, width, height, validate)\u001b[0m\n\u001b[0;32m   1768\u001b[0m     \u001b[1;31m# Do this first so we don't create a file if image conversion fails\u001b[0m\u001b[1;33m\u001b[0m\u001b[1;33m\u001b[0m\u001b[1;33m\u001b[0m\u001b[0m\n\u001b[0;32m   1769\u001b[0m     img_data = to_image(\n\u001b[1;32m-> 1770\u001b[1;33m         \u001b[0mfig\u001b[0m\u001b[1;33m,\u001b[0m \u001b[0mformat\u001b[0m\u001b[1;33m=\u001b[0m\u001b[0mformat\u001b[0m\u001b[1;33m,\u001b[0m \u001b[0mscale\u001b[0m\u001b[1;33m=\u001b[0m\u001b[0mscale\u001b[0m\u001b[1;33m,\u001b[0m \u001b[0mwidth\u001b[0m\u001b[1;33m=\u001b[0m\u001b[0mwidth\u001b[0m\u001b[1;33m,\u001b[0m \u001b[0mheight\u001b[0m\u001b[1;33m=\u001b[0m\u001b[0mheight\u001b[0m\u001b[1;33m,\u001b[0m \u001b[0mvalidate\u001b[0m\u001b[1;33m=\u001b[0m\u001b[0mvalidate\u001b[0m\u001b[1;33m\u001b[0m\u001b[1;33m\u001b[0m\u001b[0m\n\u001b[0m\u001b[0;32m   1771\u001b[0m     )\n\u001b[0;32m   1772\u001b[0m \u001b[1;33m\u001b[0m\u001b[0m\n",
      "\u001b[1;32m~\\Anaconda3\\lib\\site-packages\\plotly\\io\\_orca.py\u001b[0m in \u001b[0;36mto_image\u001b[1;34m(fig, format, width, height, scale, validate)\u001b[0m\n\u001b[0;32m   1533\u001b[0m     \u001b[1;31m# Make sure orca sever is running\u001b[0m\u001b[1;33m\u001b[0m\u001b[1;33m\u001b[0m\u001b[1;33m\u001b[0m\u001b[0m\n\u001b[0;32m   1534\u001b[0m     \u001b[1;31m# -------------------------------\u001b[0m\u001b[1;33m\u001b[0m\u001b[1;33m\u001b[0m\u001b[1;33m\u001b[0m\u001b[0m\n\u001b[1;32m-> 1535\u001b[1;33m     \u001b[0mensure_server\u001b[0m\u001b[1;33m(\u001b[0m\u001b[1;33m)\u001b[0m\u001b[1;33m\u001b[0m\u001b[1;33m\u001b[0m\u001b[0m\n\u001b[0m\u001b[0;32m   1536\u001b[0m \u001b[1;33m\u001b[0m\u001b[0m\n\u001b[0;32m   1537\u001b[0m     \u001b[1;31m# Handle defaults\u001b[0m\u001b[1;33m\u001b[0m\u001b[1;33m\u001b[0m\u001b[1;33m\u001b[0m\u001b[0m\n",
      "\u001b[1;32m~\\Anaconda3\\lib\\site-packages\\plotly\\io\\_orca.py\u001b[0m in \u001b[0;36mensure_server\u001b[1;34m()\u001b[0m\n\u001b[0;32m   1388\u001b[0m         \u001b[1;31m# Validate orca executable only if server_url is not provided\u001b[0m\u001b[1;33m\u001b[0m\u001b[1;33m\u001b[0m\u001b[1;33m\u001b[0m\u001b[0m\n\u001b[0;32m   1389\u001b[0m         \u001b[1;32mif\u001b[0m \u001b[0mstatus\u001b[0m\u001b[1;33m.\u001b[0m\u001b[0mstate\u001b[0m \u001b[1;33m==\u001b[0m \u001b[1;34m\"unvalidated\"\u001b[0m\u001b[1;33m:\u001b[0m\u001b[1;33m\u001b[0m\u001b[1;33m\u001b[0m\u001b[0m\n\u001b[1;32m-> 1390\u001b[1;33m             \u001b[0mvalidate_executable\u001b[0m\u001b[1;33m(\u001b[0m\u001b[1;33m)\u001b[0m\u001b[1;33m\u001b[0m\u001b[1;33m\u001b[0m\u001b[0m\n\u001b[0m\u001b[0;32m   1391\u001b[0m         \u001b[1;31m# Acquire lock to make sure that we keep the properties of orca_state\u001b[0m\u001b[1;33m\u001b[0m\u001b[1;33m\u001b[0m\u001b[1;33m\u001b[0m\u001b[0m\n\u001b[0;32m   1392\u001b[0m         \u001b[1;31m# consistent across threads\u001b[0m\u001b[1;33m\u001b[0m\u001b[1;33m\u001b[0m\u001b[1;33m\u001b[0m\u001b[0m\n",
      "\u001b[1;32m~\\Anaconda3\\lib\\site-packages\\plotly\\io\\_orca.py\u001b[0m in \u001b[0;36mvalidate_executable\u001b[1;34m()\u001b[0m\n\u001b[0;32m   1085\u001b[0m                 \u001b[0mexecutable\u001b[0m\u001b[1;33m=\u001b[0m\u001b[0mconfig\u001b[0m\u001b[1;33m.\u001b[0m\u001b[0mexecutable\u001b[0m\u001b[1;33m,\u001b[0m\u001b[1;33m\u001b[0m\u001b[1;33m\u001b[0m\u001b[0m\n\u001b[0;32m   1086\u001b[0m                 \u001b[0mformatted_path\u001b[0m\u001b[1;33m=\u001b[0m\u001b[0mformatted_path\u001b[0m\u001b[1;33m,\u001b[0m\u001b[1;33m\u001b[0m\u001b[1;33m\u001b[0m\u001b[0m\n\u001b[1;32m-> 1087\u001b[1;33m                 \u001b[0minstructions\u001b[0m\u001b[1;33m=\u001b[0m\u001b[0minstall_location_instructions\u001b[0m\u001b[1;33m,\u001b[0m\u001b[1;33m\u001b[0m\u001b[1;33m\u001b[0m\u001b[0m\n\u001b[0m\u001b[0;32m   1088\u001b[0m             )\n\u001b[0;32m   1089\u001b[0m         )\n",
      "\u001b[1;31mValueError\u001b[0m: \nThe orca executable is required to export figures as static images,\nbut it could not be found on the system path.\n\nSearched for executable 'orca' on the following path:\n    C:\\Users\\maxnb\\Anaconda3\\lib\\site-packages\\shapely\\DLLs\n    C:\\Users\\maxnb\\Anaconda3\\DLLs\n    C:\\Users\\maxnb\\Anaconda3\n    C:\\Users\\maxnb\\Anaconda3\\Library\\mingw-w64\\bin\n    C:\\Users\\maxnb\\Anaconda3\\Library\\usr\\bin\n    C:\\Users\\maxnb\\Anaconda3\\Library\\bin\n    C:\\Users\\maxnb\\Anaconda3\\Scripts\n    C:\\Users\\maxnb\\Anaconda3\\bin\n    C:\\Users\\maxnb\\Anaconda3\\condabin\n    C:\\Windows\\system32\n    C:\\Windows\n    C:\\Windows\\System32\\Wbem\n    C:\\Windows\\System32\\WindowsPowerShell\\v1.0\n    C:\\Windows\\System32\\OpenSSH\n    C:\\Program Files (x86)\\Intel\\Intel(R) Management Engine Components\\DAL\n    C:\\Program Files\\Intel\\Intel(R) Management Engine Components\\DAL\n    C:\\Program Files (x86)\\NVIDIA Corporation\\PhysX\\Common\n    C:\\Program Files\\NVIDIA Corporation\\NVIDIA NvDLISR\n    C:\\Program Files\\Git\\cmd\n    C:\\Program Files\\Java\\jdk-11.0.5\\bin\n    C:\\Users\\maxnb\\AppData\\Local\\Programs\\Python\\Python38-32\\Scripts\n    C:\\Users\\maxnb\\AppData\\Local\\Programs\\Python\\Python38-32\n    C:\\Users\\maxnb\\Anaconda3\n    C:\\Users\\maxnb\\Anaconda3\\Library\\mingw-w64\\bin\n    C:\\Users\\maxnb\\Anaconda3\\Library\\usr\\bin\n    C:\\Users\\maxnb\\Anaconda3\\Library\\bin\n    C:\\Users\\maxnb\\Anaconda3\\Scripts\n    C:\\Users\\maxnb\\AppData\\Local\\Microsoft\\WindowsApps\n    C:\\Users\\maxnb\\AppData\\Local\\GitHubDesktop\\bin\n    C:\\Users\\maxnb\\OneDrive\\Desktop\\Microsoft VS Code\\bin\n    C:\\Program Files\\JetBrains\\PyCharm Community Edition 2019.3.1\\bin\n    .\n    C:\\Users\\maxnb\\AppData\\Local\\atom\\bin\n    C:\\Users\\maxnb\\Anaconda3\\lib\\site-packages\\fiona\\.libs\n\nIf you haven't installed orca yet, you can do so using conda as follows:\n\n    $ conda install -c plotly plotly-orca\n\nAlternatively, see other installation methods in the orca project README at\nhttps://github.com/plotly/orca\n\nAfter installation is complete, no further configuration should be needed.\n\nIf you have installed orca, then for some reason plotly.py was unable to\nlocate it. In this case, set the `plotly.io.orca.config.executable`\nproperty to the full path of your orca executable. For example:\n\n    >>> plotly.io.orca.config.executable = '/path/to/orca'\n\nAfter updating this executable property, try the export operation again.\nIf it is successful then you may want to save this configuration so that it\nwill be applied automatically in future sessions. You can do this as follows:\n\n    >>> plotly.io.orca.config.save()\n\nIf you're still having trouble, feel free to ask for help on the forums at\nhttps://community.plot.ly/c/api/python\n"
     ]
    }
   ],
   "source": [
    "draw_map(\"density\", [50, 150, 300, 500, 1000])\n",
    "draw_map(\"cases_60days\", [300, 500, 1000, 3000, 7000])\n",
    "draw_map(\"icu_beds\", [10, 30, 60, 100, 200])"
   ]
  },
  {
   "cell_type": "markdown",
   "metadata": {},
   "source": [
    "These three choropleth maps show how the data can be represented visually on the county level, across the entire country. Here we have visualized the population density, number of icu beds, and the number of cases after 60 days, for all the sample data points in the dataset. The same color scheme is used on all three maps to show how the data is correlated. As the value of the datapoint increase, the color becomes increasingly more purple. As seen, in a majority of counties where there is purple for cases, there is also purple for population density and icu beds. This implies not only the strong impact these two features have on the target, but that they are related as well. This makes sense because all 3 variables are dependent in some way on population. The noteable areas to look at for this correlation are parts of the Northeast (i.e NY, NJ, PA, MA) as well as Florida and California."
   ]
  },
  {
   "cell_type": "markdown",
   "metadata": {
    "colab_type": "text",
    "id": "lNvcCtzjDJt1"
   },
   "source": [
    "### 3.3. Model Construction"
   ]
  },
  {
   "cell_type": "markdown",
   "metadata": {},
   "source": [
    "To test our hypothesis about which number of days since the first case will yield the best accuracy, we generated a dataframe where we fit a linear regression model to data at each n-day level 15 times, to get multiple trials, and recorded the r^2 score for each trial."
   ]
  },
  {
   "cell_type": "code",
   "execution_count": 37,
   "metadata": {},
   "outputs": [
    {
     "data": {
      "text/html": [
       "<div>\n",
       "<style scoped>\n",
       "    .dataframe tbody tr th:only-of-type {\n",
       "        vertical-align: middle;\n",
       "    }\n",
       "\n",
       "    .dataframe tbody tr th {\n",
       "        vertical-align: top;\n",
       "    }\n",
       "\n",
       "    .dataframe thead th {\n",
       "        text-align: right;\n",
       "    }\n",
       "</style>\n",
       "<table border=\"1\" class=\"dataframe\">\n",
       "  <thead>\n",
       "    <tr style=\"text-align: right;\">\n",
       "      <th></th>\n",
       "      <th>days</th>\n",
       "      <th>score</th>\n",
       "    </tr>\n",
       "  </thead>\n",
       "  <tbody>\n",
       "    <tr>\n",
       "      <th>0</th>\n",
       "      <td>60</td>\n",
       "      <td>0.385765</td>\n",
       "    </tr>\n",
       "    <tr>\n",
       "      <th>5</th>\n",
       "      <td>60</td>\n",
       "      <td>0.233484</td>\n",
       "    </tr>\n",
       "    <tr>\n",
       "      <th>10</th>\n",
       "      <td>60</td>\n",
       "      <td>0.442076</td>\n",
       "    </tr>\n",
       "    <tr>\n",
       "      <th>15</th>\n",
       "      <td>70</td>\n",
       "      <td>0.488816</td>\n",
       "    </tr>\n",
       "    <tr>\n",
       "      <th>20</th>\n",
       "      <td>70</td>\n",
       "      <td>0.266132</td>\n",
       "    </tr>\n",
       "    <tr>\n",
       "      <th>25</th>\n",
       "      <td>70</td>\n",
       "      <td>0.467764</td>\n",
       "    </tr>\n",
       "    <tr>\n",
       "      <th>30</th>\n",
       "      <td>80</td>\n",
       "      <td>0.423503</td>\n",
       "    </tr>\n",
       "    <tr>\n",
       "      <th>35</th>\n",
       "      <td>80</td>\n",
       "      <td>0.594136</td>\n",
       "    </tr>\n",
       "    <tr>\n",
       "      <th>40</th>\n",
       "      <td>80</td>\n",
       "      <td>0.525709</td>\n",
       "    </tr>\n",
       "  </tbody>\n",
       "</table>\n",
       "</div>"
      ],
      "text/plain": [
       "    days     score\n",
       "0     60  0.385765\n",
       "5     60  0.233484\n",
       "10    60  0.442076\n",
       "15    70  0.488816\n",
       "20    70  0.266132\n",
       "25    70  0.467764\n",
       "30    80  0.423503\n",
       "35    80  0.594136\n",
       "40    80  0.525709"
      ]
     },
     "execution_count": 37,
     "metadata": {},
     "output_type": "execute_result"
    }
   ],
   "source": [
    "from sklearn.model_selection import train_test_split\n",
    "from sklearn.linear_model import LinearRegression\n",
    "\n",
    "data_rows = []\n",
    "\n",
    "for n in (60, 70, 80):\n",
    "    features, target = get_features_target(n)\n",
    "    for i in range(15):\n",
    "        X_train, X_test, y_train, y_test = train_test_split(features, target)\n",
    "        estimator = LinearRegression()\n",
    "        estimator.fit(X_train, y_train)\n",
    "        data_rows.append({\n",
    "            \"days\": n,\n",
    "            \"score\": estimator.score(X_test, y_test)\n",
    "        })\n",
    "\n",
    "test_df = pd.DataFrame(data_rows)\n",
    "test_df[::5]"
   ]
  },
  {
   "cell_type": "markdown",
   "metadata": {},
   "source": [
    "Below are the descriptive statistics for this data we generated"
   ]
  },
  {
   "cell_type": "code",
   "execution_count": 38,
   "metadata": {},
   "outputs": [
    {
     "data": {
      "text/html": [
       "<div>\n",
       "<style scoped>\n",
       "    .dataframe tbody tr th:only-of-type {\n",
       "        vertical-align: middle;\n",
       "    }\n",
       "\n",
       "    .dataframe tbody tr th {\n",
       "        vertical-align: top;\n",
       "    }\n",
       "\n",
       "    .dataframe thead th {\n",
       "        text-align: right;\n",
       "    }\n",
       "</style>\n",
       "<table border=\"1\" class=\"dataframe\">\n",
       "  <thead>\n",
       "    <tr style=\"text-align: right;\">\n",
       "      <th></th>\n",
       "      <th>count</th>\n",
       "      <th>mean</th>\n",
       "      <th>std</th>\n",
       "      <th>sem</th>\n",
       "    </tr>\n",
       "    <tr>\n",
       "      <th>days</th>\n",
       "      <th></th>\n",
       "      <th></th>\n",
       "      <th></th>\n",
       "      <th></th>\n",
       "    </tr>\n",
       "  </thead>\n",
       "  <tbody>\n",
       "    <tr>\n",
       "      <th>60</th>\n",
       "      <td>15</td>\n",
       "      <td>0.173141</td>\n",
       "      <td>0.355738</td>\n",
       "      <td>0.091851</td>\n",
       "    </tr>\n",
       "    <tr>\n",
       "      <th>70</th>\n",
       "      <td>15</td>\n",
       "      <td>0.418252</td>\n",
       "      <td>0.118922</td>\n",
       "      <td>0.030706</td>\n",
       "    </tr>\n",
       "    <tr>\n",
       "      <th>80</th>\n",
       "      <td>15</td>\n",
       "      <td>0.469503</td>\n",
       "      <td>0.093613</td>\n",
       "      <td>0.024171</td>\n",
       "    </tr>\n",
       "  </tbody>\n",
       "</table>\n",
       "</div>"
      ],
      "text/plain": [
       "      count      mean       std       sem\n",
       "days                                     \n",
       "60       15  0.173141  0.355738  0.091851\n",
       "70       15  0.418252  0.118922  0.030706\n",
       "80       15  0.469503  0.093613  0.024171"
      ]
     },
     "execution_count": 38,
     "metadata": {},
     "output_type": "execute_result"
    }
   ],
   "source": [
    "test_df.groupby(by=\"days\").agg([\"count\", \"mean\", \"std\", \"sem\"]).loc[:, \"score\"]"
   ]
  },
  {
   "cell_type": "markdown",
   "metadata": {},
   "source": [
    "This function allows us to conduct a oneway ANOVA test easily, by providing the data from above and the independent variable/dependent variable."
   ]
  },
  {
   "cell_type": "code",
   "execution_count": 9,
   "metadata": {},
   "outputs": [],
   "source": [
    "import scipy.stats as stats\n",
    "from statsmodels.stats.multicomp import MultiComparison\n",
    "\n",
    "def oneway_ANOVA(data, IV, DV):\n",
    "   print(\"----------------------\")\n",
    "   print(\"ONE-WAY ANOVA RESULTS\")\n",
    "   print(\"----------------------\")\n",
    "   \n",
    "   print(\"\\nF-test\")\n",
    "   print(\"--------\")\n",
    "\n",
    "   group_names = data[IV].unique()\n",
    "   groups = [data[data[IV] == group_name][DV] for group_name in group_names]\n",
    "\n",
    "   fstat, pvalue = stats.f_oneway(*groups)\n",
    "\n",
    "   dof1 = len(groups) - 1\n",
    "   dof2 = sum([(len(group) - 1) for group in groups])\n",
    "\n",
    "   print(f\"F({dof1}, {dof2}) = {fstat:.3}, p = {pvalue:.1}\\n\\n\")\n",
    "\n",
    "   print(\"Asumption Checks\")\n",
    "   print(\"-----------------\")\n",
    "   print(\"Assumption of Equality of Variances:\")\n",
    "   \n",
    "   lstat, lpval = stats.levene(*groups)\n",
    "   print(f\"\\tLeveneResult(statistic={lstat}, pvalue={lpval})\")\n",
    "   \n",
    "   if lpval > 0.05:\n",
    "      print(\"\\tAssumption is met. p > 0.05\")\n",
    "   else:\n",
    "      print(\"\\tAssumption is not met. p < 0.05\")\n",
    "      \n",
    "   print(\"\\nAssumption of Normality:\")\n",
    "   \n",
    "   for index, group in enumerate(groups):\n",
    "      group_name = group_names[index]\n",
    "      shapiro_f, shapiro_p = stats.shapiro(group)\n",
    "      print(f\"\\t{group_name} : ({shapiro_f}, {shapiro_p})\")\n",
    "      \n",
    "      if shapiro_p > 0.05:\n",
    "         print(\"\\t\\tAssumption is met. p > 0.05\")\n",
    "      else:\n",
    "         print(\"\\t\\tAssumption is not met. p < 0.05\")\n",
    "   \n",
    "   if pvalue < 0.05:\n",
    "      print(\"\\n\\nPost-hoc Tests\")\n",
    "      print(\"---------------\\n\\n\")\n",
    "\n",
    "      mc = MultiComparison(data[DV], data[IV])\n",
    "      tukey_result = mc.tukeyhsd()\n",
    "      print(tukey_result)"
   ]
  },
  {
   "cell_type": "code",
   "execution_count": 39,
   "metadata": {},
   "outputs": [
    {
     "name": "stdout",
     "output_type": "stream",
     "text": [
      "----------------------\n",
      "ONE-WAY ANOVA RESULTS\n",
      "----------------------\n",
      "\n",
      "F-test\n",
      "--------\n",
      "F(2, 42) = 7.55, p = 0.002\n",
      "\n",
      "\n",
      "Asumption Checks\n",
      "-----------------\n",
      "Assumption of Equality of Variances:\n",
      "\tLeveneResult(statistic=3.9850367943225193, pvalue=0.02602108067484229)\n",
      "\tAssumption is not met. p < 0.05\n",
      "\n",
      "Assumption of Normality:\n",
      "\t60 : (0.7763383984565735, 0.0018563854973763227)\n",
      "\t\tAssumption is not met. p < 0.05\n",
      "\t70 : (0.889462411403656, 0.06581567972898483)\n",
      "\t\tAssumption is met. p > 0.05\n",
      "\t80 : (0.9428442716598511, 0.41948506236076355)\n",
      "\t\tAssumption is met. p > 0.05\n",
      "\n",
      "\n",
      "Post-hoc Tests\n",
      "---------------\n",
      "\n",
      "\n",
      "Multiple Comparison of Means - Tukey HSD, FWER=0.05\n",
      "===================================================\n",
      "group1 group2 meandiff p-adj   lower  upper  reject\n",
      "---------------------------------------------------\n",
      "    60     70   0.2451 0.0121  0.0471 0.4431   True\n",
      "    60     80   0.2964 0.0021  0.0984 0.4944   True\n",
      "    70     80   0.0513 0.7878 -0.1467 0.2493  False\n",
      "---------------------------------------------------\n"
     ]
    }
   ],
   "source": [
    "oneway_ANOVA(test_df, \"days\", \"score\")"
   ]
  },
  {
   "cell_type": "markdown",
   "metadata": {},
   "source": [
    "**Test & Purpose**\n",
    "\n",
    "A one-way analysis of variance (ANOVA) was conducted to compare the r^2 score of the linear regression model trained with all of our features to predict COVID-19 case count at 3 different levels for number of days: 60, 70, and 80 days since the first case was recorded in each county.\n",
    "\n",
    "**Actual Results**\n",
    "\n",
    "Results revealed a significant difference among the three levels, F(2, 42) = 4.16, p < 0.05\n",
    "\n",
    "Post-hoc comparisons using the Tukey test indicated that the average r^2 score at 80 days (M = 0.478, SE = 0.0299) was significantly higher than the average r^2 score at 60 days (M = 0.310, SE = 0.0541). Average r^2 at 80 days was not signifcantly different from average r^2 at 70 days (M = 0.421, SE = 0.0385), however, and there was also no significant difference between 60 and 70 days."
   ]
  },
  {
   "cell_type": "markdown",
   "metadata": {},
   "source": [
    "This code constructs multiple estimators we want to test, and creates a function to easily run all of these estimators at every day level with the option to use all features or only the 5 best features."
   ]
  },
  {
   "cell_type": "code",
   "execution_count": 8,
   "metadata": {},
   "outputs": [],
   "source": [
    "from sklearn.linear_model import LinearRegression, Lasso, Ridge\n",
    "from sklearn.neural_network import MLPRegressor\n",
    "from sklearn.svm import SVR\n",
    "from sklearn.neighbors import KNeighborsRegressor\n",
    "from sklearn.model_selection import KFold\n",
    "from sklearn.model_selection import cross_val_score\n",
    "from sklearn.metrics import r2_score\n",
    "from sklearn.model_selection import train_test_split\n",
    "\n",
    "estimators = {\n",
    "    \"MLP Regressor\": MLPRegressor(),\n",
    "    \"Linear Regression\": LinearRegression(),\n",
    "    \"Lasso\": Lasso(),\n",
    "    \"Ridge\": Ridge(),\n",
    "    \"Support Vector Machine\": SVR(),\n",
    "    \"k-Nearest Neighbors\": KNeighborsRegressor()\n",
    "}\n",
    "\n",
    "n_days = [60, 70, 80]\n",
    "\n",
    "def run_estimators(selected_features=False):\n",
    "    for name, model in estimators.items():\n",
    "        kfold = KFold(n_splits=10, shuffle=True)\n",
    "\n",
    "        print(f\"{name}: \")\n",
    "\n",
    "        for n in n_days:\n",
    "            features, target = get_features_target(n)\n",
    "\n",
    "            if selected_features:\n",
    "                features, target = get_features_target(n, k_best=5)\n",
    "\n",
    "            X_train, X_test, y_train, y_test = train_test_split(features, target, random_state=3000)\n",
    "\n",
    "            model.fit(X_train, y_train)\n",
    "\n",
    "            scores = cross_val_score(estimator=model, X=features, y=target, cv=kfold)\n",
    "\n",
    "            print(f\"\\tCross val. score on data at {n} days: mean={scores.mean():.3}, std={scores.std():.2}\")\n",
    "            print(f\"\\tR^2 on training data at {n} days: {r2_score(y_train, model.predict(X_train)):.3}\")\n",
    "            print(f\"\\tR^2 on testing data at {n} days: {r2_score(y_test, model.predict(X_test)):.3}\")\n",
    "            print()"
   ]
  },
  {
   "cell_type": "markdown",
   "metadata": {
    "colab_type": "text",
    "id": "x53BaxQYDJt1"
   },
   "source": [
    "### 3.4. Model Evaluation"
   ]
  },
  {
   "cell_type": "code",
   "execution_count": 9,
   "metadata": {},
   "outputs": [
    {
     "name": "stdout",
     "output_type": "stream",
     "text": [
      "Running With All Features:\n",
      "\n",
      "MLP Regressor: \n",
      "\tCross val. score on data at 60 days: mean=0.178, std=0.061\n",
      "\tR^2 on training data at 60 days: 0.107\n",
      "\tR^2 on testing data at 60 days: 0.109\n",
      "\n"
     ]
    }
   ],
   "source": [
    "print(\"Running With All Features:\\n\")\n",
    "run_estimators()\n",
    "\n",
    "print(\"Running With 5 Best Features:\\n\")\n",
    "run_estimators(selected_features=True)"
   ]
  },
  {
   "cell_type": "markdown",
   "metadata": {},
   "source": [
    "We ran each of our models at every day level we decided to look at (60, 70, and 80 days since the first case), both with all of the features in our dataset and with only the 5 best features. To evaluate, we used both a cross-validation and a percentage split approach, both of which can be seen in the output above. We used the r^2 value to compare performance with the percentage split, which tells us how well our features predicted variance in the case count, with an optimal possible score of 1.0. We used the cross validation score to compare models using a cross validation approach, which is the mean and standard deviation of the coefficient of determination (r^2 value) across all the folds used for cross validation.\n",
    "\n",
    "When we ran the models with only the 5 best features, selected using our `k_best_features` function, we found that the linear regression model had the best r^2 value (0.567 at 80 days) and also the best cross validation score, with a mean of 0.432 at 80 days. In contrast when we ran our models with all the features in our dataset, we found that Ridge regression generally performed the best, but Lasso had the highest mean cross validation score of 0.512 at 80 days. The Ridge regression model had the highest r^2 value of 0.637 at 70 days, and outperformed the Lasso model in r^2 and cross validation score at 60 and 70 days, but not at 80 days. \n",
    "\n",
    "These findings differ from our expectations in some ways, because we expected that increasing the number of samples by decreasing the number of days since the first case would increase accuracy, but in general it seemed that performance for each model was highest at 80 days and lowest at 60 days. We were also surprised to see Ridge regression perform so well and do better than Lasso at 60 and 70 days, but Lasso did have the highest score overall when looking at all the features. This makes sense, and meets our expectations, because the Lasso algorithm automatically selects the most important features when performing its regression. We also didn't expect the linear regression algorithm to perform as well as it did, being the best regressor when using the selected features.\n",
    "\n",
    "Broadly speaking the models seemed mildly overfit, but it wasn't horrible or even very consistent. The r^2 value on the testing set was generally < 0.2 lower than the r^2 value on the training set. This indicates some overfitting, but it varied between models and even between different N-day levels so there isn't any general rule."
   ]
  },
  {
   "cell_type": "markdown",
   "metadata": {},
   "source": [
    "Interpreting our hypothesis test:\n",
    "\n",
    "The results of our oneway ANOVA hypothesis test indicates that linear regression performed between our features and the case count 80 days after the first case in each county has a greater r^2 value than when performed between our features and the case count 60 days after the first case in each county.\n",
    "\n",
    "Results also indicate that the r^2 value at 80 days and 70 days, and also 60 days and 70 days didn't significantly differ, meaning 80 days should be chosen over 60 days, but models trained on 60 days and 70 days won't significantly differ in terms of r^2, and models trained on 70 days and 80 days also won't significantly differ.\n",
    "\n",
    "Based on the results of this test, we will continue our model tuning and testing at the 80-day level."
   ]
  },
  {
   "cell_type": "markdown",
   "metadata": {
    "colab_type": "text",
    "id": "SINSIEzKDJt2"
   },
   "source": [
    "### 3.5. Model Optimization"
   ]
  },
  {
   "cell_type": "markdown",
   "metadata": {},
   "source": [
    "Based on the above evaluation, we decided to tune the lasso and ridge estimators, because the linear regressor doesn't have any parameters that can be hypertuned. We used `GridSearchCV` to tune these models, which can be seen below. We opted to optimize on data at 80 days, because this level performed the best in general and according to our hypothesis testing had a significantly higher r^2 value than 60 days. We tuned our parameters to avoid the mild overfitting we saw in the previous section, and to increase the r^2 score as much as possible."
   ]
  },
  {
   "cell_type": "code",
   "execution_count": null,
   "metadata": {},
   "outputs": [],
   "source": [
    "from sklearn.model_selection import GridSearchCV\n",
    "\n",
    "parameters = {\n",
    "    \"Lasso\": {\n",
    "        \"alpha\": [0.001, 0.01, 0.1, 0.3, 0.5, 1.0, 2.0, 10.0],\n",
    "        \"warm_start\": [True, False],\n",
    "        \"max_iter\": [100, 1000, 5000, 10000],\n",
    "        \"selection\": [\"cyclic\", \"random\"]\n",
    "    },\n",
    "    \"Ridge\": {\n",
    "        \"alpha\": [0.001, 0.01, 0.1, 0.3, 0.5, 1.0, 2.0, 10.0],\n",
    "        \"max_iter\": [100, 1000, 5000, 10000]\n",
    "    }\n",
    "}\n",
    "\n",
    "features, target = get_features_target(80, k_best=5)\n",
    "X_train, X_test, y_train, y_test = train_test_split(features, target, random_state=3000)\n",
    "\n",
    "for name, param_grid in parameters.items():\n",
    "    estimator = estimators[name]\n",
    "    grid_search = GridSearchCV(estimator, param_grid, cv=10)\n",
    "    grid_search.fit(X_train, y_train)\n",
    "\n",
    "    print(f\"Tuning {name}:\")\n",
    "    print(f\"\\tBest Parameters: \", grid_search.best_params_)\n",
    "    print(f\"\\tBest Score: \", grid_search.best_score_)\n"
   ]
  },
  {
   "cell_type": "markdown",
   "metadata": {},
   "source": [
    "The models both performed very similarly in this optimization step, and the results were consistently around 0.3-0.5 for the best score from each model. This score is a mean of the r^2 metric evaluated for each fold, and we ran our grid search cv with 10 folds. Using the results from this step, we tuned and trained our final models for testing below."
   ]
  },
  {
   "cell_type": "code",
   "execution_count": 40,
   "metadata": {},
   "outputs": [
    {
     "ename": "NameError",
     "evalue": "name 'Lasso' is not defined",
     "output_type": "error",
     "traceback": [
      "\u001b[1;31m---------------------------------------------------------------------------\u001b[0m",
      "\u001b[1;31mNameError\u001b[0m                                 Traceback (most recent call last)",
      "\u001b[1;32m<ipython-input-40-910ecccbd7f8>\u001b[0m in \u001b[0;36m<module>\u001b[1;34m\u001b[0m\n\u001b[0;32m      1\u001b[0m final_estimators = {\n\u001b[1;32m----> 2\u001b[1;33m     \u001b[1;34m\"Lasso\"\u001b[0m\u001b[1;33m:\u001b[0m \u001b[0mLasso\u001b[0m\u001b[1;33m(\u001b[0m\u001b[1;33m**\u001b[0m\u001b[1;33m{\u001b[0m\u001b[1;34m'alpha'\u001b[0m\u001b[1;33m:\u001b[0m \u001b[1;36m0.1\u001b[0m\u001b[1;33m,\u001b[0m \u001b[1;34m'max_iter'\u001b[0m\u001b[1;33m:\u001b[0m \u001b[1;36m100\u001b[0m\u001b[1;33m,\u001b[0m \u001b[1;34m'selection'\u001b[0m\u001b[1;33m:\u001b[0m \u001b[1;34m'random'\u001b[0m\u001b[1;33m,\u001b[0m \u001b[1;34m'warm_start'\u001b[0m\u001b[1;33m:\u001b[0m \u001b[1;32mTrue\u001b[0m\u001b[1;33m}\u001b[0m\u001b[1;33m)\u001b[0m\u001b[1;33m,\u001b[0m\u001b[1;33m\u001b[0m\u001b[1;33m\u001b[0m\u001b[0m\n\u001b[0m\u001b[0;32m      3\u001b[0m     \u001b[1;34m\"Ridge\"\u001b[0m\u001b[1;33m:\u001b[0m \u001b[0mRidge\u001b[0m\u001b[1;33m(\u001b[0m\u001b[1;33m**\u001b[0m\u001b[1;33m{\u001b[0m\u001b[1;34m'alpha'\u001b[0m\u001b[1;33m:\u001b[0m \u001b[1;36m0.01\u001b[0m\u001b[1;33m,\u001b[0m \u001b[1;34m'max_iter'\u001b[0m\u001b[1;33m:\u001b[0m \u001b[1;36m100\u001b[0m\u001b[1;33m}\u001b[0m\u001b[1;33m)\u001b[0m\u001b[1;33m,\u001b[0m\u001b[1;33m\u001b[0m\u001b[1;33m\u001b[0m\u001b[0m\n\u001b[0;32m      4\u001b[0m     \u001b[1;34m\"Linear Regression\"\u001b[0m\u001b[1;33m:\u001b[0m \u001b[0mLinearRegression\u001b[0m\u001b[1;33m(\u001b[0m\u001b[1;33m)\u001b[0m\u001b[1;33m\u001b[0m\u001b[1;33m\u001b[0m\u001b[0m\n\u001b[0;32m      5\u001b[0m }\n",
      "\u001b[1;31mNameError\u001b[0m: name 'Lasso' is not defined"
     ]
    }
   ],
   "source": [
    "final_estimators = {\n",
    "    \"Lasso\": Lasso(**{'alpha': 0.1, 'max_iter': 100, 'selection': 'random', 'warm_start': True}),\n",
    "    \"Ridge\": Ridge(**{'alpha': 0.01, 'max_iter': 100}),\n",
    "    \"Linear Regression\": LinearRegression()\n",
    "}"
   ]
  },
  {
   "cell_type": "markdown",
   "metadata": {
    "colab_type": "text",
    "id": "7b8-uSA4DJt2"
   },
   "source": [
    "### 3.6. Model Testing"
   ]
  },
  {
   "cell_type": "code",
   "execution_count": null,
   "metadata": {},
   "outputs": [],
   "source": [
    "for name, estimator in final_estimators.items():\n",
    "    estimator.fit(X_train, y_train)\n",
    "    print(f\"{name}: \")\n",
    "    print(f\"\\tR^2 on training data: {r2_score(y_train, estimator.predict(X_train)):.3}\")\n",
    "    print(f\"\\tR^2 on testing data: {r2_score(y_test, estimator.predict(X_test)):.3}\")\n"
   ]
  },
  {
   "cell_type": "markdown",
   "metadata": {},
   "source": [
    "After our testing of our tuned algorithms, we found that ridge regression performed the best of the three, but they all had an r^2 value of 0.545 to 0.565 so the performance was very close between all. Our results also indicated an absence of overfitting because the r^2 value on the testing data was greater by ~0.1 in all cases compared to the r^2 value on the training data, which tells us that our tuning in the previous step was successful."
   ]
  },
  {
   "cell_type": "markdown",
   "metadata": {
    "colab_type": "text",
    "id": "qRceICdfDJt2"
   },
   "source": [
    "<a id=\"4\"></a>\n",
    "<hr style=\"height:2px; border:none; color:black; background-color:black;\">"
   ]
  },
  {
   "cell_type": "markdown",
   "metadata": {
    "colab_type": "text",
    "id": "ZVShHhgdDJt3"
   },
   "source": [
    "## 4. DISCUSSION\n",
    "* Provide a summary of the steps you took to analyze your data and test your predictive model\n",
    "* Interpret your findings from 3.4., 3.5, and 3.6\n",
    "    * Which algorithms did you compare?\n",
    "    * Which algorithm(s) revealed best performance?\n",
    "    * Which algorithm(s) should be used for your predictive model?\n",
    "    * Based on your findings, can we you the features in your dataset to predict the outcome variable you identified using the algorithms you've applied? (It is okay if the answer is no. We're interested in the process, not the performance of the model.)\n",
    "* For your hypotheses, interpret the results. What does it mean to have significant/non-significant differences with regards to your data?\n",
    "\n",
    "\n",
    "* End this section with a conclusion paragraph containing some pointers for future work\n",
    "    * (e.g., get more data/features, perform another analysis, etc.)"
   ]
  },
  {
   "cell_type": "markdown",
   "metadata": {},
   "source": [
    "To acquire our data, we researched what factors had the most influence on the spread of COVID-19 in the United States, and found a variety of data sources to obtain data about these factors on the county level across the US. We compiled all these data sets together into one data source we could use to analyze and create a predictive model from.\n",
    "\n",
    "Our first step in analyzing our data was to generate a variety of different visualizations to help us come up with answers for our hypotheses and to get a better understanding of our data. Some of these visualizations are pictured above, but we also did some exploratory visualizations to see the correlation between all variables and how different variables might be related. We decided to trim our features down to the 5 best features, using SciKit learn's built in `select_k_best` function using `f_regression`. We did this to lower overfitting and increase the performance of our models. We also used SKLearn's `MinMaxScaler` to standardize our data before training our predictive models.\n",
    "\n",
    "After running a variety of estimators, we selected Lasso, Ridge, and Linear Regression for our final hyperparameter tuning and testing because they performed the best. We trained our models on a subset of our data, and tested using the remaining data, which we split with SKLearn's `train_test_split` function. We used `GridSearchCV` to help our hyperparameter tuning, which automatically selected the best combination of parameters for us from an array of options we provided.\n",
    "\n",
    "In our model construction step, we constructed models using the MLP Regressor, Linear Regression, Lasso, Ridge, Support Vector Machine, and k-Nearest Neighbors algorithms. We trained these models 3 times each: using case counts at 60, 70, and 80 days. We repeated this process of training each algorithm 3 times for our data with all features and our data parsed down to the 5 best features, to see if there was any difference in performance. The Linear Regression algorithm performed the best overall, but Lasso and Ridge regression also showed promising results, so we decided to include those in our final parameter tuning and model testing steps.\n",
    "\n",
    "After tuning the Ridge and Lasso algorithms (the Linear Regression algorithm doesn't have any hyperparameters to tune) we tested all 3 on a seperate subset of our data, and found that Ridge regression performed the best. All three models had very similar performance, however, with the r^2 values on the testing data being 0.45-0.65 for all three. Based on this final testing, the Ridge regression algorithm should be used for our predictive model, but because they all performed so similarly any of these 3 could be used.\n",
    "\n",
    "Although the performance of our predictive models was quite satisfactory, with a peak r^2 value of 0.65 in our model testing, we don't think this process should be applied to predicting COVID-19 case counts. This is because COVID-19 is a dangerous illness, so predicting case counts reliably is of upmost importance, and we don't think our models were quite up to the standard required. We think that other approaches will probably yield better results, like predicting case counts based on the existing progression of the pandemic in a given area instead of only looking at variables prior to the outbreak. The features we obtained are absolutely useful indicators of how drastic an outbreak could be, but we don't believe that they alone have the accuracy needed to reliably predict COVID-19 case counts.\n"
   ]
  },
  {
   "cell_type": "markdown",
   "metadata": {},
   "source": [
    "**Hypotheses Interpretation (Hypotheses from Section 1: Introduction):**\n",
    "\n",
    "Hypothesis 1:\n",
    "- *Null*: All features will have an equal effect on the total number of cases.\n",
    "- *Alternative*: Population density, population, and population aged over 65 will have the biggest effect on the total number of cases.\n",
    "- *Alternative*: The commuting data as well as the education and economic data will have the smallest effect on the total number of cases.\n",
    "- *Alternative*: The population of the county will have the largest effect on the total number of cases.\n",
    "\n",
    "Based on our findings that the 5 most important features to our predictive model are `commuting_in`, `commuting_out`, `density`, `pop_over65`, `pop_2019`, our hypotheses that population density, population, and population aged 65 will have the largest effect hold, but we were wrong in our hypothesis that commuting data will have the smallest effect because commuting in and commuting out were both important features in our prediction.\n",
    "\n",
    "Hypothesis 2:\n",
    "- *Null*: All features are independent and will unique effects on the prediction.\n",
    "- *Alternative*: Many of the features will have similar effects on the data as they are correlated (i.e poverty and income, commuting in and commuting out).\n",
    "\n",
    "Based on the visualizations we created with poverty vs. income and commuting in vs. commuting out, we are rejecting our null hypothesis and maintain that many of our features have some sort of relationship. Intuitively this makes sense as poverty and median income are closely related, and commuting in vs. commuting out will have some influence on each other.\n",
    "\n",
    "Hypothesis 3:\n",
    "- *Null*: The accuracy of the model will not fluctuate that much when changing the length of time since the first case appeared in the county.\n",
    "- *Alternative*: The model will vary in accuracy when predicting at different lengths of time since the first case appeared.\n",
    "\n",
    "Based on the hypothesis testing we conducted, comparing r^2 score of the linear regression model predicting case counts 60, 70, and 80 days since the first case was recorded in each county, we found that there was in fact a significant difference between these 3 levels, p < 0.05, so we can reject the null hypothesis. We found that there was only a significant difference between 60 and 80 days, but not between 60 and 70 days nor 70 and 80 days, using a Tukey test. Using the results of this hypothesis test, we conducted our model tuning and testing at the 80-day level. The significant/non-significant distinction means that there is a < 0.05 probability that the difference in r^2 score between 60 and 80 days was by chance, and that there was a > 0.05 probability that the differences in r^2 score between 60 and 70 days or 70 and 80 days is purely random."
   ]
  },
  {
   "cell_type": "markdown",
   "metadata": {},
   "source": [
    "Based on the performance of our model, we believe that there is more that could be done to increase accuracy. Firstly, adding in categorical data, like the USDA types of economy data, could be beneficial as an additional feature or to segment our dataset into different categories. Racial demographic data and tourism data are other features we think could be helpful in further analyses. Segmenting our data geographically might also help prediction accuracy because of how the pandemic spread differently in different parts of the country. Finally, approaching this problem from a time-series analysis perspective might yield better results, because although prior factors do have some predictivity on case count as shown in our analysis, perhaps the most important indicator of future case counts is case counts up to the present in each county. This would be a completely separate type of analysis, but it could be combined with our findings here in a way which we believe would yield the most accurate predictions."
   ]
  },
  {
   "cell_type": "markdown",
   "metadata": {
    "colab_type": "text",
    "id": "TamoxXGxDJt3"
   },
   "source": [
    "<a id=\"5\"></a>\n",
    "<hr style=\"height:2px; border:none; color:black; background-color:black;\">"
   ]
  },
  {
   "cell_type": "markdown",
   "metadata": {
    "colab_type": "text",
    "id": "0JQeQ2wyDJt4"
   },
   "source": [
    "### CONTRIBUTIONS"
   ]
  },
  {
   "cell_type": "markdown",
   "metadata": {
    "colab": {},
    "colab_type": "code",
    "id": "AiJ2jXOcDJt4"
   },
   "source": [
    "Max did the visualizations besides the bar plot and the function to select the best features. Luca did the bar plot, the function to get features and targets, and parts of the introduction. The majority of the report was done together on team calls either using Google Collab or switching off typing while the other team member gave feedback. Overall, we did almost all of this collaboratively, with only small portions done in our own time."
   ]
  }
 ],
 "metadata": {
  "colab": {
   "collapsed_sections": [],
   "name": "DS3000_FP4_Group25.ipynb",
   "provenance": []
  },
  "kernelspec": {
   "display_name": "Python 3.7.4 64-bit ('base': conda)",
   "language": "python",
   "name": "python37464bitbaseconda810bfb40376742f39442c4849d4fb798"
  },
  "language_info": {
   "codemirror_mode": {
    "name": "ipython",
    "version": 3
   },
   "file_extension": ".py",
   "mimetype": "text/x-python",
   "name": "python",
   "nbconvert_exporter": "python",
   "pygments_lexer": "ipython3",
   "version": "3.7.4"
  }
 },
 "nbformat": 4,
 "nbformat_minor": 1
}
