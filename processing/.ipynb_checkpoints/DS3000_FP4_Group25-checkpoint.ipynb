{
 "cells": [
  {
   "cell_type": "markdown",
   "metadata": {
    "colab_type": "text",
    "id": "KKwuEchADJtk"
   },
   "source": [
    "<center> <h2> DS 3000 - Summer 2020</h2> </center>\n",
    "<center> <h3> DS Report </h3> </center>\n"
   ]
  },
  {
   "cell_type": "markdown",
   "metadata": {
    "colab_type": "text",
    "id": "QImRs7XODJtl"
   },
   "source": [
    "<center> <h3>Predicting COVID-19 Case Count in the United States</h3> </center>\n",
    "<center><h4>Max Breslauer-Friedman and Luca Demian</h4></center>\n"
   ]
  },
  {
   "cell_type": "markdown",
   "metadata": {
    "colab_type": "text",
    "id": "QcvlnvIpDJtm"
   },
   "source": [
    "<hr style=\"height:2px; border:none; color:black; background-color:black;\">"
   ]
  },
  {
   "cell_type": "markdown",
   "metadata": {
    "colab_type": "text",
    "id": "5e6SnzxODJtn"
   },
   "source": [
    "#### Executive Summary:\n",
    "\n",
    "Add your summary here (100-150 words)\n",
    "\n",
    "Provide a brief summary of your project. After reading this executive summary, your readers should have a rough understanding of what you did in this project. You can think of this summary in terms of the four sections of the report and write 1-2 sentences describing each section.\n",
    "\n"
   ]
  },
  {
   "cell_type": "markdown",
   "metadata": {
    "colab_type": "text",
    "id": "F4DAusN_DJtn"
   },
   "source": [
    "<hr style=\"height:2px; border:none; color:black; background-color:black;\">"
   ]
  },
  {
   "cell_type": "markdown",
   "metadata": {
    "colab_type": "text",
    "id": "a_OGQjD2DJto"
   },
   "source": [
    "## Outline\n",
    "1. <a href='#1'>INTRODUCTION</a>\n",
    "2. <a href='#2'>METHOD</a>\n",
    "3. <a href='#3'>RESULTS</a>\n",
    "4. <a href='#4'>DISCUSSION</a>"
   ]
  },
  {
   "cell_type": "markdown",
   "metadata": {
    "colab_type": "text",
    "id": "N5DWruQHDJto"
   },
   "source": [
    "<a id=\"1\"></a>\n",
    "<hr style=\"height:2px; border:none; color:black; background-color:black;\">"
   ]
  },
  {
   "cell_type": "markdown",
   "metadata": {
    "colab_type": "text",
    "id": "BFZDHXwGDJtp"
   },
   "source": [
    "## 1. INTRODUCTION"
   ]
  },
  {
   "cell_type": "markdown",
   "metadata": {
    "colab_type": "text",
    "id": "ByHyU86iDJtp"
   },
   "source": [
    "In this section, orient your readers to your project. You've already written some of these in previous deliverables. Based on your final analysis, revise your problem statement and write a concise introduction section. This section should touch upon the following points, but should be written in full paragraphs. Your writing should incorporate all of these points (and more if you like) in a coherent way. Remember that you are trying to convince your readers that this is an important problem to tackle. \n",
    "\n",
    "Problem Statement\n",
    "* Describe the problem you would like to tackle. \n",
    "* What is the topic of your project? \n",
    "* What do you want to learn about it?\n",
    "\n",
    "Significance of the Problem\n",
    "* Why is it important to tackle this problem in your project?\n",
    "* In what ways could the insights from this project be useful?\n",
    "* **(optional)** Has there been previous work on your topic in terms of applying ML techniques to analyze similar datasets? Do some research into your topic. What algorithms were used? What was the performance of those algorithms? Cite your sources appropriately. You can use the numbered reference format or APA (if you are more comfortable with it).\n",
    "\n",
    "Given the severity of the virus, solving the problems addressed in the problem statement will hopefully tell us more about what could’ve been done ahead of time in anticipation of a pandemic. If we can create a model to accurately  predict  the  severity the COVID-19  pandemic  based  on  prior  factors,  this  could potentially  be extended to forecasting the remainder of the outbreak or predicting other future outbreaks. We haven't found previous work using machine learning in a similar way, likely because a pandemic of this scale hasn't happened since the inception of machine learning.\n",
    "\n",
    "Questions/Hypothesis\n",
    "* End this section with a list of questions and hypotheses\n",
    "* You should tie these questions/hypotheses to the problem statement and its significance\n",
    "    * e.g. Given the aforementioned problem and its importance, we set out to tackle the following questions:\n",
    "    \n",
    "Based on our research about the virus, we came up with the following research questions to answer:\n",
    "\n",
    "1. How does changing the length of time since the first case appeared in a given county change the accuracy of the predictions from the model?\n",
    "2. What feature is the most influential in predicting the spread of the virus?\n",
    "3. Can the case count actually be predicted accurately based on any information, or is this virus too unpredictable?\n",
    "4. Which features have little to no impact on the spread of the virus? \n",
    "5. If our model is accurate, will it be able to forecast the total case counts in the future, rather than just predicting already existing numbers?\n",
    "6. Based on our data, we think LASSO regression will be the most accurate model, will this be true or will another model be more accurate?\n",
    "\n",
    "**Hypotheses:**\n",
    "\n",
    "Hypotheses on features:\n",
    "- *Null*: All features will have an equal effect on the total number of cases.\n",
    "- *Alternative*: Population density, population, and population aged over 65 will have the biggest effect on the total number of cases.\n",
    "- *Alternative*: The commuting data as well as the education and economic data will have the smallest effect on the total number of cases.\n",
    "- *Alternative*: The population of the county will have the largest effect on the total number of cases.\n",
    "\n",
    "\n",
    "- *Null*: All features are independent and will unique effects on the prediction.\n",
    "- *Alternative*: Many of the features will have similar effects on the data as they are correlated (i.e poverty and income, commuting in and commuting out).\n",
    "\n",
    "Hypotheses about length of time since first case:\n",
    "- *Null*: The model will vary in accuracy when predicting at different lengths of time since the first case appeared.\n",
    "- *Alternative*: The accuracy of the model will not fluctuate that much when changing the length of time since the first case appeared in the county. \n",
    "\n",
    "    \n",
    "**Requirement:**\n",
    "* You should have at least one question tapping into the comparison of various machine learning algorithms in predicting your target variable from your features variables.\n",
    "* You should have at least one hypothesis regarding the relationship between two variables."
   ]
  },
  {
   "cell_type": "markdown",
   "metadata": {
    "colab_type": "text",
    "id": "SsIzTOI9DJtp"
   },
   "source": [
    "<a id=\"2\"></a>\n",
    "<hr style=\"height:2px; border:none; color:black; background-color:black;\">"
   ]
  },
  {
   "cell_type": "markdown",
   "metadata": {
    "colab_type": "text",
    "id": "2ufR1EjdDJtq"
   },
   "source": [
    "## 2. METHOD"
   ]
  },
  {
   "cell_type": "markdown",
   "metadata": {
    "colab_type": "text",
    "id": "aLK1YWp8DJtq"
   },
   "source": [
    "### 2.1. Data Acquisition\n",
    "\n",
    "* Describe where you obtained your data. Provide a link to the original source. \n",
    "* If you scraped your data, include your code as a separate script file.\n",
    "* Your data should be stored in an online repository (e.g., GitHub) and your code should retrieve your data from that online resource. You can read csv files from the Web in the same way that you read files from local drive.\n",
    "* Describe the dataset (i.e., what it is about) and the number of variables included.\n",
    "\n",
    "We sourced our data from a variety of different datasets, visible in the table below. The code we used to consolidate this data is in our Github Repository [here](https://github.com/lucademian/ds3000_covid_prediction/tree/master/data), where there is a series of Jupyter notebooks prefixed by the order we ran them. The folder also contains the raw data and data midway through compiling into a single table. Our dataset includes 24 variables related to the demographics and preparedness of each county prior to the outbreak, as well as various case counts per county. These variables range from income and poverty data to the number of ICU beds in the county. We decided to focus on variables available before the pandemic started, rather than variables after the disease made an appearance, so that our results could theoretically be extended to forecasting future case counts of COVID-19 or be altered to predict future pandemics.\n",
    "\n",
    "#### Data Sources\n",
    "\n",
    "|Data Set|Source|Date|Notebook|Variables|\n",
    "|-|-|-|-|-|\n",
    "|NY Times|[Link](https://github.com/nytimes/covid-19-data/blob/master/us-counties.csv)|May 22, 2020|[000_process_nytimes](https://github.com/lucademian/ds3000_covid_prediction/blob/master/data/000_process_nytimes.ipynb)|`date_0days`, `cases_0days`, `deaths_0days`, `date_60days`, `cases_60days`, `deaths_60days`, `fips`\n",
    "|Kaiser Health|[Link](https://khn.org/news/as-coronavirus-spreads-widely-millions-of-older-americans-live-in-counties-with-no-icu-beds/#lookup)|March 30, 2020|[010_process_kaiser](https://github.com/lucademian/ds3000_covid_prediction/blob/master/data/010_process_kaiser.ipynb)|`icu_beds`, `kaiser_total_population`, `kaiser_60plus_population`\n",
    "|US Census Commuting Data|[Link](https://www.census.gov/data/tables/2015/demo/metro-micro/commuting-flows-2015.html)|2015|[020_uscensus_commuting_flows](https://github.com/lucademian/ds3000_covid_prediction/blob/master/data/020_uscensus_commuting_flows.ipynb)|`commuting_within`, `commuting_out`, `commuting_in`\n",
    "|US Census Population Density|[Link](https://api.census.gov/data/2019/pep/population?get=DENSITY,POP&for=county:*)|2019|[030_uscensus_population_density](https://github.com/lucademian/ds3000_covid_prediction/blob/master/data/030_uscensus_population_density.ipynb)|`density`, `pop_2019`\n",
    "|Political Majority|[Link](https://github.com/tonmcg/US_County_Level_Election_Results_08-16/blob/master/2016_US_County_Level_Presidential_Results.csv)|2016|[040_political_majority](https://github.com/lucademian/ds3000_covid_prediction/blob/master/data/040_political_majority.ipynb)|`percent_democrat`, `percent_gop`\n",
    "|Poverty Data|[Link](https://www.ers.usda.gov/data-products/county-level-data-sets/download-data/)|Feb. 5, 2020|[050_process_poverty](https://github.com/lucademian/ds3000_covid_prediction/blob/master/data/050_process_poverty.ipynb)|`percent_in_poverty`\n",
    "|Age Data|[Link](https://data.census.gov/cedsci/table?q=Older%20Population&hidePreview=true&t=Older%20Population&tid=ACSDP1Y2018.DP05&vintage=2018&g=0100000US.050000)|2018|[060_age_data](https://github.com/lucademian/ds3000_covid_prediction/blob/master/data/060_age_data.ipynb)|`pop_under18`, `pop_over65`, `pop_2018`, `median_age`\n",
    "|Education Data|[Link](https://www.ers.usda.gov/data-products/county-level-data-sets/download-data/)|2018|[070_education_data](https://github.com/lucademian/ds3000_covid_prediction/blob/master/data/070_education_data.ipynb)|`percent_with_bachelors`\n",
    "|Income Data|[Link](https://www.ers.usda.gov/data-products/county-level-data-sets/download-data/)|2018|[080_income_data](https://github.com/lucademian/ds3000_covid_prediction/blob/master/data/060_income_data.ipynb)|`median_income`\n",
    "\n",
    "NOTE: we also got the counts from NY Times for other N day values."
   ]
  },
  {
   "cell_type": "markdown",
   "metadata": {
    "colab_type": "text",
    "id": "YEcXZCW3DJtr"
   },
   "source": [
    "### 2.2. Variables\n",
    "* For your hypotheses, what are your IVs and DVs?\n",
    "* For your predictive models, what are your features and target variables?\n",
    "\n",
    "- **IV**: The features used in prediction.\n",
    "- **DV**: The most predictive feature(s).\n",
    "\n",
    "\n",
    "- **IV**: The features used in the prediction.\n",
    "- **DV**: How the effect of each feature on the predicted data is different or correlated with the effect of others.\n",
    "\n",
    "\n",
    "- **IV**: The time since the first case appeared in each county.\n",
    "- **DV**: The prediction accuracy of our model.\n",
    "\n",
    "Our predictive model will predict the target variable of case count based on a number of different features, listed in the table below."
   ]
  },
  {
   "cell_type": "markdown",
   "metadata": {
    "colab_type": "text",
    "id": "lXN4BkZbDJtr"
   },
   "source": [
    "### 2.3. Data Analysis\n",
    "* Specifically describe your predictive model. What outcome variable are you going to predict from what feature variables? Why do you think those are important predictors?\n",
    "* Describe why this is a supervised ML problem and identify the sub-category of the learning task (e.g. classification).\n",
    "* What machine learning algorithms are you going to use? **Why?**\n",
    "\n",
    "Our predictive model will predict the case count in each county after X days, where X is the number of days since the first case was identified in the county. We plan to try running our model to predict case count at X=60, X=70, and X=80 days, and compare the perfomance between the three. It will predict case count using a number of feature variables, in the table below:\n",
    "\n",
    "|Name|Description|\n",
    "|-|-|\n",
    "|`icu_beds`|Count of ICU beds per county.\n",
    "|`commuting_in`|Population commuting into this county every day.\n",
    "|`commuting_out`|Population commuting out of this county every day.\n",
    "|`commuting_within`|Population commuting within this county every day.\n",
    "|`density`|A measure of poulation density in this county.\n",
    "|`percent_democrat`|Percentage of 2016 voters voting Democratic.\n",
    "|`percent_in_poverty`|Percentage of county population (all ages) in poverty.\n",
    "|`pop_under18`|Population in county aged under 18.\n",
    "|`pop_over65`|Population in county aged 65+.\n",
    "|`median_age`|Median age for the county.\n",
    "|`percent_with_bachelors`|Percent of people in county attaining a bachelors degree or higher.\n",
    "|`median_income`|A measure of the median income in this county.\n",
    "|`pop_2019`|County population as of 2019.\n",
    "\n",
    "We chose these predictors based on [CDC guidance](https://www.cdc.gov/coronavirus/2019-ncov/covid-data/investigations-discovery/assessing-risk-factors.html) about risk factors for the infection on top of our own judgements about what factors could potentially lead to a worsened outbreak in a county. We hypothesize that population density, population, ICU beds, median income, and population aged 65+ will be the most important variables in our predictive model.\n",
    "\n",
    "This is a supervised machine learning problem because we are using a subset of our data to train the model, where it will have access to the number of cases, the variable to predict, in order to learn. This is a regression problem, because we are predicting the case count, a continuous variable.\n",
    "\n",
    "We are going to use the LASSO, Ridge, Support Vector Machine, k-Nearest Neighbor, and Gaussian Naive Bayes regression algorithms because this is a regression problem and we want to test a variety of different models. We think LASSO regression will make most accurate predictions because we have more control over the tuning of the model and it will automatically select the most important features."
   ]
  },
  {
   "cell_type": "markdown",
   "metadata": {
    "colab_type": "text",
    "id": "mCAwGxDIDJts"
   },
   "source": [
    "<a id=\"3\"></a>\n",
    "<hr style=\"height:2px; border:none; color:black; background-color:black;\">"
   ]
  },
  {
   "cell_type": "markdown",
   "metadata": {
    "colab_type": "text",
    "id": "dOcNDAcPDJtt"
   },
   "source": [
    "## 3. RESULTS"
   ]
  },
  {
   "cell_type": "markdown",
   "metadata": {
    "colab_type": "text",
    "id": "bcYwM7KuDJtu"
   },
   "source": [
    "### 3.1. Data Wrangling\n",
    "In this section, you should do the following and explain why you are doing what you are doing. For each, you should include your code in a cell, followed by a sample output. For instance, if you are one-hot encoding one of your variables, you should first describe what it is and why you are doing it. You should then include your code in a cell, and the sample output should be available as well.\n",
    "\n",
    "* Perform simple data cleaning (delete extra columns, deal with NA values, etc.)\n",
    "* Perform data wrangling to get your features and target values (e.g., grouping your dataframe by columns, applying functions to format dataframes, etc.)\n",
    "* Preprocess your variables (e.g., scaling/transforming feature variables to normalize them)\n",
    "* Perform feature extraction (dummy variables, new features from existing features, etc.)\n",
    "* Use one feature selection technique to select a subset of your original features"
   ]
  },
  {
   "cell_type": "markdown",
   "metadata": {
    "colab_type": "text",
    "id": "JoAklvbKDJtu"
   },
   "source": [
    "We performed data cleaning, extraction, and wrangling as part of our data acquisition, because our data is coming from so many distinct sources. This selection process can be seen in our [notebook on Github](https://github.com/lucademian/ds3000_covid_prediction/blob/master/data/999_feature_selection.ipynb), and the final data with the features and target variable is selected below."
   ]
  },
  {
   "cell_type": "code",
   "execution_count": 2,
   "metadata": {
    "colab": {
     "base_uri": "https://localhost:8080/",
     "height": 202
    },
    "colab_type": "code",
    "id": "End2525TDJtu",
    "outputId": "dd891dd6-a18a-4464-943d-f0d6d396de88"
   },
   "outputs": [
    {
     "data": {
      "text/html": [
       "<div>\n",
       "<style scoped>\n",
       "    .dataframe tbody tr th:only-of-type {\n",
       "        vertical-align: middle;\n",
       "    }\n",
       "\n",
       "    .dataframe tbody tr th {\n",
       "        vertical-align: top;\n",
       "    }\n",
       "\n",
       "    .dataframe thead th {\n",
       "        text-align: right;\n",
       "    }\n",
       "</style>\n",
       "<table border=\"1\" class=\"dataframe\">\n",
       "  <thead>\n",
       "    <tr style=\"text-align: right;\">\n",
       "      <th></th>\n",
       "      <th>icu_beds</th>\n",
       "      <th>commuting_in</th>\n",
       "      <th>commuting_out</th>\n",
       "      <th>commuting_within</th>\n",
       "      <th>density</th>\n",
       "      <th>percent_democrat</th>\n",
       "      <th>percent_in_poverty</th>\n",
       "      <th>pop_under18</th>\n",
       "      <th>pop_over65</th>\n",
       "      <th>median_age</th>\n",
       "      <th>percent_with_bachelors</th>\n",
       "      <th>median_income</th>\n",
       "      <th>pop_2019</th>\n",
       "      <th>cases_60days</th>\n",
       "      <th>cases_70days</th>\n",
       "      <th>cases_80days</th>\n",
       "      <th>fips</th>\n",
       "    </tr>\n",
       "  </thead>\n",
       "  <tbody>\n",
       "    <tr>\n",
       "      <td>0</td>\n",
       "      <td>72</td>\n",
       "      <td>54070</td>\n",
       "      <td>130657</td>\n",
       "      <td>233454</td>\n",
       "      <td>393.996419</td>\n",
       "      <td>0.542634</td>\n",
       "      <td>7.5</td>\n",
       "      <td>180294</td>\n",
       "      <td>99868</td>\n",
       "      <td>37.8</td>\n",
       "      <td>31.9</td>\n",
       "      <td>87096</td>\n",
       "      <td>822083</td>\n",
       "      <td>446.0</td>\n",
       "      <td>1228.0</td>\n",
       "      <td>1801.0</td>\n",
       "      <td>53061</td>\n",
       "    </tr>\n",
       "    <tr>\n",
       "      <td>3</td>\n",
       "      <td>1606</td>\n",
       "      <td>489235</td>\n",
       "      <td>317505</td>\n",
       "      <td>2095418</td>\n",
       "      <td>5450.384359</td>\n",
       "      <td>0.743758</td>\n",
       "      <td>13.8</td>\n",
       "      <td>1160425</td>\n",
       "      <td>724730</td>\n",
       "      <td>36.6</td>\n",
       "      <td>38.0</td>\n",
       "      <td>63347</td>\n",
       "      <td>5150233</td>\n",
       "      <td>1194.0</td>\n",
       "      <td>6473.0</td>\n",
       "      <td>15474.0</td>\n",
       "      <td>17031</td>\n",
       "    </tr>\n",
       "    <tr>\n",
       "      <td>6</td>\n",
       "      <td>651</td>\n",
       "      <td>317959</td>\n",
       "      <td>235247</td>\n",
       "      <td>1242712</td>\n",
       "      <td>4005.616646</td>\n",
       "      <td>0.509602</td>\n",
       "      <td>10.5</td>\n",
       "      <td>711188</td>\n",
       "      <td>440488</td>\n",
       "      <td>37.8</td>\n",
       "      <td>39.9</td>\n",
       "      <td>89373</td>\n",
       "      <td>3175692</td>\n",
       "      <td>187.0</td>\n",
       "      <td>786.0</td>\n",
       "      <td>1299.0</td>\n",
       "      <td>6059</td>\n",
       "    </tr>\n",
       "    <tr>\n",
       "      <td>9</td>\n",
       "      <td>1004</td>\n",
       "      <td>79525</td>\n",
       "      <td>40810</td>\n",
       "      <td>1752902</td>\n",
       "      <td>487.509549</td>\n",
       "      <td>0.456797</td>\n",
       "      <td>12.3</td>\n",
       "      <td>1042245</td>\n",
       "      <td>615277</td>\n",
       "      <td>36.1</td>\n",
       "      <td>32.0</td>\n",
       "      <td>65234</td>\n",
       "      <td>4485414</td>\n",
       "      <td>299.0</td>\n",
       "      <td>1326.0</td>\n",
       "      <td>2146.0</td>\n",
       "      <td>4013</td>\n",
       "    </tr>\n",
       "    <tr>\n",
       "      <td>12</td>\n",
       "      <td>2126</td>\n",
       "      <td>483659</td>\n",
       "      <td>334665</td>\n",
       "      <td>4182123</td>\n",
       "      <td>2473.507350</td>\n",
       "      <td>0.714072</td>\n",
       "      <td>14.2</td>\n",
       "      <td>2246521</td>\n",
       "      <td>1299277</td>\n",
       "      <td>36.2</td>\n",
       "      <td>31.8</td>\n",
       "      <td>67986</td>\n",
       "      <td>10039107</td>\n",
       "      <td>1216.0</td>\n",
       "      <td>5940.0</td>\n",
       "      <td>10496.0</td>\n",
       "      <td>6037</td>\n",
       "    </tr>\n",
       "  </tbody>\n",
       "</table>\n",
       "</div>"
      ],
      "text/plain": [
       "    icu_beds  commuting_in  commuting_out  commuting_within      density  \\\n",
       "0         72         54070         130657            233454   393.996419   \n",
       "3       1606        489235         317505           2095418  5450.384359   \n",
       "6        651        317959         235247           1242712  4005.616646   \n",
       "9       1004         79525          40810           1752902   487.509549   \n",
       "12      2126        483659         334665           4182123  2473.507350   \n",
       "\n",
       "    percent_democrat  percent_in_poverty  pop_under18  pop_over65  median_age  \\\n",
       "0           0.542634                 7.5       180294       99868        37.8   \n",
       "3           0.743758                13.8      1160425      724730        36.6   \n",
       "6           0.509602                10.5       711188      440488        37.8   \n",
       "9           0.456797                12.3      1042245      615277        36.1   \n",
       "12          0.714072                14.2      2246521     1299277        36.2   \n",
       "\n",
       "    percent_with_bachelors  median_income  pop_2019  cases_60days  \\\n",
       "0                     31.9          87096    822083         446.0   \n",
       "3                     38.0          63347   5150233        1194.0   \n",
       "6                     39.9          89373   3175692         187.0   \n",
       "9                     32.0          65234   4485414         299.0   \n",
       "12                    31.8          67986  10039107        1216.0   \n",
       "\n",
       "    cases_70days  cases_80days   fips  \n",
       "0         1228.0        1801.0  53061  \n",
       "3         6473.0       15474.0  17031  \n",
       "6          786.0        1299.0   6059  \n",
       "9         1326.0        2146.0   4013  \n",
       "12        5940.0       10496.0   6037  "
      ]
     },
     "execution_count": 2,
     "metadata": {},
     "output_type": "execute_result"
    }
   ],
   "source": [
    "import pandas as pd\n",
    "import requests\n",
    "\n",
    "DATA_URL = \"https://raw.githubusercontent.com/lucademian/ds3000_covid_prediction/master/data/999_selected_features_60-70-80days.csv?token=ADDEA5VGC2CO7OOZREVREFK65ZXY4\"\n",
    "df = pd.read_csv(DATA_URL, index_col=0)\n",
    "df.head()"
   ]
  },
  {
   "cell_type": "markdown",
   "metadata": {
    "colab_type": "text",
    "id": "8vlb16vqDJty"
   },
   "source": [
    "First, we separated our features from the targets. We have 3 different target columns, for each of the different N-day values we will look at. We decided to use the Min-Max Scaler to process our data, because the scales for our data are so different."
   ]
  },
  {
   "cell_type": "code",
   "execution_count": 3,
   "metadata": {
    "colab": {},
    "colab_type": "code",
    "id": "2yv9jSrODJty"
   },
   "outputs": [],
   "source": [
    "from sklearn.preprocessing import MinMaxScaler\n",
    "\n",
    "def get_features_target(n_days, scale=True):\n",
    "    \"\"\"\n",
    "    This function takes in a N-day value and returns the features and target\n",
    "    for that value as a tuple: (features, target). The features are scaled using\n",
    "    the Min-Max scaler.\n",
    "    \"\"\"\n",
    "\n",
    "    target_column = f\"cases_{n_days}days\"\n",
    "    \n",
    "    # our first 13 columns are features, and the \n",
    "    # last N columns are the different targets.\n",
    "    features = df.loc[df[target_column].notna()].iloc[:, 0:13]\n",
    "    target = df[target_column].dropna()\n",
    "\n",
    "    if not scale:\n",
    "        return features, target\n",
    "    \n",
    "    # create a scaler object and fit to the features\n",
    "    scaler = MinMaxScaler()\n",
    "    scaler.fit(features)\n",
    "\n",
    "    # transform the features using the scaler\n",
    "    features_scaled = scaler.transform(features)\n",
    "    \n",
    "    return features_scaled, target"
   ]
  },
  {
   "cell_type": "markdown",
   "metadata": {
    "colab_type": "text",
    "id": "Yp_Zd_h2DpG1"
   },
   "source": [
    "Then, we performed feature selection using the SelectKBest algorithm based on F-value\n",
    "for each feature."
   ]
  },
  {
   "cell_type": "code",
   "execution_count": 4,
   "metadata": {
    "colab": {},
    "colab_type": "code",
    "id": "DJDzdXgnDqm8"
   },
   "outputs": [],
   "source": [
    "from sklearn.feature_selection import SelectKBest, f_classif\n",
    "from sklearn.model_selection import train_test_split\n",
    "\n",
    "def k_best_features(k, features, target):\n",
    "    \n",
    "    X_train, X_test, y_train, y_test = train_test_split(features, target, random_state=3000)\n",
    "  \n",
    "    selector = SelectKBest(f_classif, k = k)\n",
    "    selector.fit(X_train, y_train)\n",
    "  \n",
    "    columns = []\n",
    "    for i in range(len(selector.get_support())):\n",
    "      if selector.get_support()[i]:\n",
    "        columns.append(df.columns[i])\n",
    "\n",
    "    return columns      "
   ]
  },
  {
   "cell_type": "markdown",
   "metadata": {
    "colab_type": "text",
    "id": "FI4fjyTADJt0"
   },
   "source": [
    "### 3.2. Data Exploration\n",
    "* Generate appropriate data visualizations for your key variables identified in the previous section\n",
    "* You should have at least three visualizations (and at least two different visualization types)\n",
    "* For each visualization provide an explanation regarding the variables involved and an interpretation of the graph.\n",
    "* If you are using Plotly, insert your visualizations as images as well (upload the graph images to an online source, e.g. github, and embed those into the cells in Jupyter Notebook)\n"
   ]
  },
  {
   "cell_type": "markdown",
   "metadata": {
    "colab_type": "text",
    "id": "MlUE_oFaFSiC"
   },
   "source": [
    "For our first visualization, we decided to see if a visualization could help support our hypothesis. In one hypothesis we predicted that a few of the features would have similar effects on the target variable as the data between them was directly correlated. We first visualized the percent of the population in poverty and the median income. As you can see, there is a distinct curve correlation the two variables. We also visualized the data for the number of people commuting into the county versus the number of people commuting out of the county each day. FILL IN INTERPRETATION ONCE DATA IS RETRIEVED."
   ]
  },
  {
   "cell_type": "code",
   "execution_count": 5,
   "metadata": {
    "colab": {
     "base_uri": "https://localhost:8080/",
     "height": 845
    },
    "colab_type": "code",
    "id": "hcAaCf8fGH2i",
    "outputId": "cf27c5a2-f683-446f-f5bb-606398e365b2"
   },
   "outputs": [
    {
     "name": "stderr",
     "output_type": "stream",
     "text": [
      "C:\\Users\\maxnb\\Anaconda3\\lib\\site-packages\\matplotlib\\colors.py:527: RuntimeWarning: invalid value encountered in less\n",
      "  xa[xa < 0] = -1\n"
     ]
    },
    {
     "data": {
      "text/plain": [
       "<Figure size 640x480 with 1 Axes>"
      ]
     },
     "metadata": {},
     "output_type": "display_data"
    },
    {
     "data": {
      "text/plain": [
       "<Figure size 1600x800 with 2 Axes>"
      ]
     },
     "metadata": {},
     "output_type": "display_data"
    }
   ],
   "source": [
    "import matplotlib.pyplot as plt\n",
    "import seaborn as sns\n",
    "from seaborn import scatterplot\n",
    "\n",
    "avg_cases = sum(df[\"cases_70days\"])/len(df[\"cases_70days\"])\n",
    "sns.scatterplot(data = df, x = 'percent_in_poverty', y = 'median_income', hue = 'cases_70days', \n",
    "                size = 'cases_70days', sizes = (15, 300), hue_norm = (0, avg_cases))\n",
    "\n",
    "plt.figure(figsize = (16,8))\n",
    "plt.subplot(1,2,1)\n",
    "plt.scatter(x=df['percent_in_poverty'], y=df['median_income'])\n",
    "plt.xlabel(\"Percent of population in poverty\")\n",
    "plt.ylabel(\"Median income\")\n",
    "plt.title(\"Correlation between poverty and income\")\n",
    "\n",
    "plt.subplot(1,2,2)\n",
    "plt.scatter(x=df['commuting_in'], y=df['pop_2019'])\n",
    "plt.xlabel(\"Population commuting into the county each day\")\n",
    "plt.ylabel(\"Population commuting out of the county each day\")\n",
    "plt.title(\"Correlation between commutting in and out\")\n",
    "\n",
    "plt.show()"
   ]
  },
  {
   "cell_type": "markdown",
   "metadata": {
    "colab_type": "text",
    "id": "pcTgBUdPLn_G"
   },
   "source": []
  },
  {
   "cell_type": "code",
   "execution_count": 6,
   "metadata": {
    "colab": {
     "base_uri": "https://localhost:8080/",
     "height": 326
    },
    "colab_type": "code",
    "id": "QIB3Ju_yLu6H",
    "outputId": "b3a6ef42-e4c9-4471-9b9f-82b8d7f6aa14"
   },
   "outputs": [
    {
     "ename": "NameError",
     "evalue": "name 'y_pos' is not defined",
     "output_type": "error",
     "traceback": [
      "\u001b[1;31m---------------------------------------------------------------------------\u001b[0m",
      "\u001b[1;31mNameError\u001b[0m                                 Traceback (most recent call last)",
      "\u001b[1;32m<ipython-input-6-0a2143bfa107>\u001b[0m in \u001b[0;36m<module>\u001b[1;34m\u001b[0m\n\u001b[0;32m     23\u001b[0m \u001b[1;33m\u001b[0m\u001b[0m\n\u001b[0;32m     24\u001b[0m \u001b[1;31m# Create names on the x-axis\u001b[0m\u001b[1;33m\u001b[0m\u001b[1;33m\u001b[0m\u001b[1;33m\u001b[0m\u001b[0m\n\u001b[1;32m---> 25\u001b[1;33m \u001b[0mplt\u001b[0m\u001b[1;33m.\u001b[0m\u001b[0mxticks\u001b[0m\u001b[1;33m(\u001b[0m\u001b[0my_pos\u001b[0m\u001b[1;33m,\u001b[0m \u001b[1;33m[\u001b[0m\u001b[1;34mf\"{N} days\"\u001b[0m \u001b[1;32mfor\u001b[0m \u001b[0mN\u001b[0m \u001b[1;32min\u001b[0m \u001b[0mday_counts\u001b[0m\u001b[1;33m]\u001b[0m\u001b[1;33m)\u001b[0m\u001b[1;33m\u001b[0m\u001b[1;33m\u001b[0m\u001b[0m\n\u001b[0m\u001b[0;32m     26\u001b[0m \u001b[1;33m\u001b[0m\u001b[0m\n\u001b[0;32m     27\u001b[0m \u001b[0mplt\u001b[0m\u001b[1;33m.\u001b[0m\u001b[0mtitle\u001b[0m\u001b[1;33m(\u001b[0m\u001b[1;34m\"Comparing The Number of Counties and Total \\nNumber of Cases at Each N-Day Value\"\u001b[0m\u001b[1;33m)\u001b[0m\u001b[1;33m\u001b[0m\u001b[1;33m\u001b[0m\u001b[0m\n",
      "\u001b[1;31mNameError\u001b[0m: name 'y_pos' is not defined"
     ]
    },
    {
     "data": {
      "image/png": "[encoded data removed]",
      "text/plain": [
       "<Figure size 432x288 with 2 Axes>"
      ]
     },
     "metadata": {
      "needs_background": "light"
     },
     "output_type": "display_data"
    }
   ],
   "source": [
    "import numpy as np\n",
    "day_counts = (60, 70, 80)\n",
    "\n",
    "df_rows = [{\n",
    "  \"n_counties\": len(get_features_target(N, scale=False)[0]),\n",
    "  \"total_cases\": get_features_target(N, scale=False)[1].sum()\n",
    "} for N in day_counts]\n",
    "\n",
    "bar_df = pd.DataFrame(df_rows, index=day_counts)\n",
    "\n",
    "fig = plt.figure() # Create matplotlib figure\n",
    "\n",
    "ax = fig.add_subplot(111) # Create matplotlib axes\n",
    "ax2 = ax.twinx() # Create another axes that shares the same x-axis as ax.\n",
    "\n",
    "width = 0.3\n",
    "\n",
    "bar_df.n_counties.plot(kind='bar', color='red', ax=ax, width=width, position=1)\n",
    "bar_df.total_cases.plot(kind='bar', color='blue', ax=ax2, width=width, position=0)\n",
    "\n",
    "ax.set_ylabel('Number of Counties')\n",
    "ax2.set_ylabel('Total Case Count')\n",
    "\n",
    "# Create names on the x-axis\n",
    "plt.xticks(y_pos, [f\"{N} days\" for N in day_counts])\n",
    "\n",
    "plt.title(\"Comparing The Number of Counties and Total \\nNumber of Cases at Each N-Day Value\")\n",
    "\n",
    "ax.legend(loc=1)\n",
    "ax2.legend(loc=0)\n",
    "\n",
    "# Show graphic\n",
    "plt.show()"
   ]
  },
  {
   "cell_type": "code",
   "execution_count": null,
   "metadata": {},
   "outputs": [],
   "source": [
    "Geopandas"
   ]
  },
  {
   "cell_type": "code",
   "execution_count": null,
   "metadata": {},
   "outputs": [],
   "source": [
    "import plotly.figure_factory as ff\n",
    "\n",
    "df\n",
    "\"\"\"fips = ['06021', '06023', '06027',\n",
    "        '06029', '06033', '06059',\n",
    "        '06047', '06049', '06051',\n",
    "        '06055', '06061']\n",
    "values = range(len(fips))\n",
    "\n",
    "fig = ff.create_choropleth(fips=fips, values=values)\n",
    "fig.layout.template = None\n",
    "fig.show()\"\"\""
   ]
  },
  {
   "cell_type": "markdown",
   "metadata": {
    "colab_type": "text",
    "id": "lNvcCtzjDJt1"
   },
   "source": [
    "### 3.3. Model Construction\n",
    "* Conduct your hypothesis test(s) here.\n",
    "* For your machine learning question(s), use the Training, Validation, and Testing approach through GridSearch\n",
    "* Apply machine learning algorithms (apply at least three different algorithms)\n",
    "* Train your algorithms"
   ]
  },
  {
   "cell_type": "markdown",
   "metadata": {
    "colab_type": "text",
    "id": "x53BaxQYDJt1"
   },
   "source": [
    "### 3.4. Model Evaluation\n",
    "* Evaluate the performance of your algorithms on appropriate evaluation metrics, using your validation set\n",
    "    * Use at least two different metrics \n",
    "* Evaluate your results from multiple ML models and hypothesis tests\n",
    "    * What was the performance of each algorithm in plain English? Is there any indication of overfitting/underfitting?\n",
    "    * Was there a significant difference? Use the template from lecture slides when reporting the results of your hypothesis testing."
   ]
  },
  {
   "cell_type": "markdown",
   "metadata": {
    "colab_type": "text",
    "id": "SINSIEzKDJt2"
   },
   "source": [
    "### 3.5. Model Optimization\n",
    "* Tune your models using appropriate hyperparameters\n",
    "* Explain why you are doing this (e.g., to avoid overfitting, etc.)"
   ]
  },
  {
   "cell_type": "markdown",
   "metadata": {
    "colab_type": "text",
    "id": "7b8-uSA4DJt2"
   },
   "source": [
    "### 3.6. Model Testing\n",
    "* Test your tuned algorithms using your testing set"
   ]
  },
  {
   "cell_type": "markdown",
   "metadata": {
    "colab_type": "text",
    "id": "qRceICdfDJt2"
   },
   "source": [
    "<a id=\"4\"></a>\n",
    "<hr style=\"height:2px; border:none; color:black; background-color:black;\">"
   ]
  },
  {
   "cell_type": "markdown",
   "metadata": {
    "colab_type": "text",
    "id": "ZVShHhgdDJt3"
   },
   "source": [
    "## 4. DISCUSSION\n",
    "* Provide a summary of the steps you took to analyze your data and test your predictive model\n",
    "* Interpret your findings from 3.4., 3.5, and 3.6\n",
    "    * Which algorithms did you compare?\n",
    "    * Which algorithm(s) revealed best performance?\n",
    "    * Which algorithm(s) should be used for your predictive model?\n",
    "    * Based on your findings, can we you the features in your dataset to predict the outcome variable you identified using the algorithms you've applied? (It is okay if the answer is no. We're interested in the process, not the performance of the model.)\n",
    "* For your hypotheses, interpret the results. What does it mean to have significant/non-significant differences with regards to your data?\n",
    "\n",
    "\n",
    "* End this section with a conclusion paragraph containing some pointers for future work\n",
    "    * (e.g., get more data/features, perform another analysis, etc.)"
   ]
  },
  {
   "cell_type": "markdown",
   "metadata": {
    "colab_type": "text",
    "id": "TamoxXGxDJt3"
   },
   "source": [
    "<a id=\"5\"></a>\n",
    "<hr style=\"height:2px; border:none; color:black; background-color:black;\">"
   ]
  },
  {
   "cell_type": "markdown",
   "metadata": {
    "colab_type": "text",
    "id": "0JQeQ2wyDJt4"
   },
   "source": [
    "### CONTRIBUTIONS\n",
    "* Describe each team member's contributions to the report (who did what in each section)\n",
    "* Remember this is a team effort!\n",
    "* Each member of your team will provide peer evaluation of other team members. Your final grade on the project will be based on those peer evaluations. An survey will be shared after the deadline for this deliverable."
   ]
  },
  {
   "cell_type": "code",
   "execution_count": null,
   "metadata": {
    "colab": {},
    "colab_type": "code",
    "id": "AiJ2jXOcDJt4"
   },
   "outputs": [],
   "source": []
  }
 ],
 "metadata": {
  "colab": {
   "collapsed_sections": [],
   "name": "DS3000_FP4_Group25.ipynb",
   "provenance": []
  },
  "kernelspec": {
   "display_name": "Python 3",
   "language": "python",
   "name": "python3"
  },
  "language_info": {
   "codemirror_mode": {
    "name": "ipython",
    "version": 3
   },
   "file_extension": ".py",
   "mimetype": "text/x-python",
   "name": "python",
   "nbconvert_exporter": "python",
   "pygments_lexer": "ipython3",
   "version": "3.7.4"
  }
 },
 "nbformat": 4,
 "nbformat_minor": 1
}
