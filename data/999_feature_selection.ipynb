{
 "cells": [
  {
   "cell_type": "markdown",
   "metadata": {},
   "source": [
    "# Feature Selection\n",
    "\n",
    "This final notebook takes all the processed data from the prior scripts and filters it down to the features that will be used to train our model."
   ]
  },
  {
   "cell_type": "code",
   "execution_count": 2,
   "metadata": {},
   "outputs": [
    {
     "output_type": "execute_result",
     "data": {
      "text/plain": "    icu_beds  commuting_in  commuting_out  commuting_within      density  \\\n0         72         54070         130657            233454   393.996419   \n3       1606        489235         317505           2095418  5450.384359   \n6        651        317959         235247           1242712  4005.616646   \n9       1004         79525          40810           1752902   487.509549   \n12      2126        483659         334665           4182123  2473.507350   \n\n    percent_democrat  percent_in_poverty  pop_under18  pop_over65  median_age  \\\n0           0.542634                 7.5       180294       99868        37.8   \n3           0.743758                13.8      1160425      724730        36.6   \n6           0.509602                10.5       711188      440488        37.8   \n9           0.456797                12.3      1042245      615277        36.1   \n12          0.714072                14.2      2246521     1299277        36.2   \n\n    percent_with_bachelors  median_income  pop_2019  cases_60days  \\\n0                     31.9          87096    822083         446.0   \n3                     38.0          63347   5150233        1194.0   \n6                     39.9          89373   3175692         187.0   \n9                     32.0          65234   4485414         299.0   \n12                    31.8          67986  10039107        1216.0   \n\n    cases_70days  cases_80days  \n0         1228.0        1801.0  \n3         6473.0       15474.0  \n6          786.0        1299.0  \n9         1326.0        2146.0  \n12        5940.0       10496.0  ",
      "text/html": "<div>\n<style scoped>\n    .dataframe tbody tr th:only-of-type {\n        vertical-align: middle;\n    }\n\n    .dataframe tbody tr th {\n        vertical-align: top;\n    }\n\n    .dataframe thead th {\n        text-align: right;\n    }\n</style>\n<table border=\"1\" class=\"dataframe\">\n  <thead>\n    <tr style=\"text-align: right;\">\n      <th></th>\n      <th>icu_beds</th>\n      <th>commuting_in</th>\n      <th>commuting_out</th>\n      <th>commuting_within</th>\n      <th>density</th>\n      <th>percent_democrat</th>\n      <th>percent_in_poverty</th>\n      <th>pop_under18</th>\n      <th>pop_over65</th>\n      <th>median_age</th>\n      <th>percent_with_bachelors</th>\n      <th>median_income</th>\n      <th>pop_2019</th>\n      <th>cases_60days</th>\n      <th>cases_70days</th>\n      <th>cases_80days</th>\n    </tr>\n  </thead>\n  <tbody>\n    <tr>\n      <th>0</th>\n      <td>72</td>\n      <td>54070</td>\n      <td>130657</td>\n      <td>233454</td>\n      <td>393.996419</td>\n      <td>0.542634</td>\n      <td>7.5</td>\n      <td>180294</td>\n      <td>99868</td>\n      <td>37.8</td>\n      <td>31.9</td>\n      <td>87096</td>\n      <td>822083</td>\n      <td>446.0</td>\n      <td>1228.0</td>\n      <td>1801.0</td>\n    </tr>\n    <tr>\n      <th>3</th>\n      <td>1606</td>\n      <td>489235</td>\n      <td>317505</td>\n      <td>2095418</td>\n      <td>5450.384359</td>\n      <td>0.743758</td>\n      <td>13.8</td>\n      <td>1160425</td>\n      <td>724730</td>\n      <td>36.6</td>\n      <td>38.0</td>\n      <td>63347</td>\n      <td>5150233</td>\n      <td>1194.0</td>\n      <td>6473.0</td>\n      <td>15474.0</td>\n    </tr>\n    <tr>\n      <th>6</th>\n      <td>651</td>\n      <td>317959</td>\n      <td>235247</td>\n      <td>1242712</td>\n      <td>4005.616646</td>\n      <td>0.509602</td>\n      <td>10.5</td>\n      <td>711188</td>\n      <td>440488</td>\n      <td>37.8</td>\n      <td>39.9</td>\n      <td>89373</td>\n      <td>3175692</td>\n      <td>187.0</td>\n      <td>786.0</td>\n      <td>1299.0</td>\n    </tr>\n    <tr>\n      <th>9</th>\n      <td>1004</td>\n      <td>79525</td>\n      <td>40810</td>\n      <td>1752902</td>\n      <td>487.509549</td>\n      <td>0.456797</td>\n      <td>12.3</td>\n      <td>1042245</td>\n      <td>615277</td>\n      <td>36.1</td>\n      <td>32.0</td>\n      <td>65234</td>\n      <td>4485414</td>\n      <td>299.0</td>\n      <td>1326.0</td>\n      <td>2146.0</td>\n    </tr>\n    <tr>\n      <th>12</th>\n      <td>2126</td>\n      <td>483659</td>\n      <td>334665</td>\n      <td>4182123</td>\n      <td>2473.507350</td>\n      <td>0.714072</td>\n      <td>14.2</td>\n      <td>2246521</td>\n      <td>1299277</td>\n      <td>36.2</td>\n      <td>31.8</td>\n      <td>67986</td>\n      <td>10039107</td>\n      <td>1216.0</td>\n      <td>5940.0</td>\n      <td>10496.0</td>\n    </tr>\n  </tbody>\n</table>\n</div>"
     },
     "metadata": {},
     "execution_count": 2
    }
   ],
   "source": [
    "DATA_URL = \"income_processed_60-70-80days.csv\"\n",
    "FEATURES = [\n",
    "    \"icu_beds\", \n",
    "    \"commuting_in\",\n",
    "    \"commuting_out\", \n",
    "    \"commuting_within\", \n",
    "    \"density\", \n",
    "    \"percent_democrat\", \n",
    "    \"percent_in_poverty\", \n",
    "    \"pop_under18\", \n",
    "    \"pop_over65\", \n",
    "    \"median_age\", \n",
    "    \"percent_with_bachelors\", \n",
    "    \"median_income\",\n",
    "    \"pop_2019\",\n",
    "    \"cases_60days\",\n",
    "    \"cases_70days\",\n",
    "    \"cases_80days\"\n",
    "]\n",
    "\n",
    "import pandas as pd\n",
    "\n",
    "raw_df = pd.read_csv(DATA_URL, index_col=0)\n",
    "\n",
    "# select the features\n",
    "processed_df = raw_df.loc[:, FEATURES]\n",
    "processed_df.head()"
   ]
  },
  {
   "cell_type": "code",
   "execution_count": 3,
   "metadata": {},
   "outputs": [],
   "source": [
    "# save selected features\n",
    "processed_df.to_csv(DATA_URL.replace(\"income_processed\", \"999_selected_features\"))"
   ]
  },
  {
   "cell_type": "code",
   "execution_count": null,
   "metadata": {},
   "outputs": [],
   "source": []
  }
 ],
 "metadata": {
  "language_info": {
   "codemirror_mode": {
    "name": "ipython",
    "version": 3
   },
   "file_extension": ".py",
   "mimetype": "text/x-python",
   "name": "python",
   "nbconvert_exporter": "python",
   "pygments_lexer": "ipython3",
   "version": "3.8.2-final"
  },
  "orig_nbformat": 2,
  "kernelspec": {
   "name": "python38264bitvenve0b3e47bc4324dd7bd7481b3aace2c47",
   "display_name": "Python 3.8.2 64-bit ('venv')"
  }
 },
 "nbformat": 4,
 "nbformat_minor": 2
}