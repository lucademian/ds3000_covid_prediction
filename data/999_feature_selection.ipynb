{
 "cells": [
  {
   "cell_type": "markdown",
   "metadata": {},
   "source": [
    "# Feature Selection\n",
    "\n",
    "This final notebook takes all the processed data from the prior scripts and filters it down to the features that will be used to train our model."
   ]
  },
  {
   "cell_type": "code",
   "execution_count": 1,
   "metadata": {},
   "outputs": [
    {
     "output_type": "execute_result",
     "data": {
      "text/plain": "   cases_60days  icu_beds  commuting_in  commuting_out      density  \\\n0           446        72         54070         130657   393.996419   \n1          1194      1606        489235         317505  5450.384359   \n2           187       651        317959         235247  4005.616646   \n3          1216      2126        483659         334665  2473.507350   \n4           299      1004         79525          40810   487.509549   \n\n   percent_democrat  percent_in_poverty  pop_over65  median_age  \\\n0          0.542634                 7.5       99868        37.8   \n1          0.743758                13.8      724730        36.6   \n2          0.509602                10.5      440488        37.8   \n3          0.714072                14.2     1299277        36.2   \n4          0.456797                12.3      615277        36.1   \n\n   percent_with_bachelors  median_income  pop_2019  \n0                    31.9          87096    822083  \n1                    38.0          63347   5150233  \n2                    39.9          89373   3175692  \n3                    31.8          67986  10039107  \n4                    32.0          65234   4485414  ",
      "text/html": "<div>\n<style scoped>\n    .dataframe tbody tr th:only-of-type {\n        vertical-align: middle;\n    }\n\n    .dataframe tbody tr th {\n        vertical-align: top;\n    }\n\n    .dataframe thead th {\n        text-align: right;\n    }\n</style>\n<table border=\"1\" class=\"dataframe\">\n  <thead>\n    <tr style=\"text-align: right;\">\n      <th></th>\n      <th>cases_60days</th>\n      <th>icu_beds</th>\n      <th>commuting_in</th>\n      <th>commuting_out</th>\n      <th>density</th>\n      <th>percent_democrat</th>\n      <th>percent_in_poverty</th>\n      <th>pop_over65</th>\n      <th>median_age</th>\n      <th>percent_with_bachelors</th>\n      <th>median_income</th>\n      <th>pop_2019</th>\n    </tr>\n  </thead>\n  <tbody>\n    <tr>\n      <th>0</th>\n      <td>446</td>\n      <td>72</td>\n      <td>54070</td>\n      <td>130657</td>\n      <td>393.996419</td>\n      <td>0.542634</td>\n      <td>7.5</td>\n      <td>99868</td>\n      <td>37.8</td>\n      <td>31.9</td>\n      <td>87096</td>\n      <td>822083</td>\n    </tr>\n    <tr>\n      <th>1</th>\n      <td>1194</td>\n      <td>1606</td>\n      <td>489235</td>\n      <td>317505</td>\n      <td>5450.384359</td>\n      <td>0.743758</td>\n      <td>13.8</td>\n      <td>724730</td>\n      <td>36.6</td>\n      <td>38.0</td>\n      <td>63347</td>\n      <td>5150233</td>\n    </tr>\n    <tr>\n      <th>2</th>\n      <td>187</td>\n      <td>651</td>\n      <td>317959</td>\n      <td>235247</td>\n      <td>4005.616646</td>\n      <td>0.509602</td>\n      <td>10.5</td>\n      <td>440488</td>\n      <td>37.8</td>\n      <td>39.9</td>\n      <td>89373</td>\n      <td>3175692</td>\n    </tr>\n    <tr>\n      <th>3</th>\n      <td>1216</td>\n      <td>2126</td>\n      <td>483659</td>\n      <td>334665</td>\n      <td>2473.507350</td>\n      <td>0.714072</td>\n      <td>14.2</td>\n      <td>1299277</td>\n      <td>36.2</td>\n      <td>31.8</td>\n      <td>67986</td>\n      <td>10039107</td>\n    </tr>\n    <tr>\n      <th>4</th>\n      <td>299</td>\n      <td>1004</td>\n      <td>79525</td>\n      <td>40810</td>\n      <td>487.509549</td>\n      <td>0.456797</td>\n      <td>12.3</td>\n      <td>615277</td>\n      <td>36.1</td>\n      <td>32.0</td>\n      <td>65234</td>\n      <td>4485414</td>\n    </tr>\n  </tbody>\n</table>\n</div>"
     },
     "metadata": {},
     "execution_count": 1
    }
   ],
   "source": [
    "DATA_URL = \"income_processed_70days.csv\"\n",
    "FEATURES = [\n",
    "    \"cases_70days\", \n",
    "    \"icu_beds\", \n",
    "    \"commuting_in\",\n",
    "    \"commuting_out\", \n",
    "    \"density\", \n",
    "    \"percent_democrat\", \n",
    "    \"percent_in_poverty\", \n",
    "    \"pop_over65\", \n",
    "    \"median_age\", \n",
    "    \"percent_with_bachelors\", \n",
    "    \"median_income\",\n",
    "    \"pop_2019\"\n",
    "]\n",
    "\n",
    "import pandas as pd\n",
    "\n",
    "raw_df = pd.read_csv(DATA_URL, index_col=0)\n",
    "\n",
    "# select the features\n",
    "processed_df = raw_df.loc[:, FEATURES]\n",
    "processed_df.head()"
   ]
  },
  {
   "cell_type": "code",
   "execution_count": 2,
   "metadata": {},
   "outputs": [],
   "source": [
    "# save selected features\n",
    "processed_df.to_csv(DATA_URL.replace(\"income_processed\", \"999_selected_features\"))"
   ]
  }
 ],
 "metadata": {
  "language_info": {
   "codemirror_mode": {
    "name": "ipython",
    "version": 3
   },
   "file_extension": ".py",
   "mimetype": "text/x-python",
   "name": "python",
   "nbconvert_exporter": "python",
   "pygments_lexer": "ipython3",
   "version": "3.8.3-final"
  },
  "orig_nbformat": 2,
  "kernelspec": {
   "name": "python38332bit3ade8eb8817e4ab89e5ca4281715c8b4",
   "display_name": "Python 3.8.3 32-bit"
  }
 },
 "nbformat": 4,
 "nbformat_minor": 2
}