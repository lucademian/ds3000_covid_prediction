{
 "cells": [
  {
   "cell_type": "markdown",
   "metadata": {},
   "source": [
    "# Feature Selection\n",
    "\n",
    "This final notebook takes all the processed data from the prior scripts and filters it down to the features that will be used to train our model."
   ]
  },
  {
   "cell_type": "code",
   "execution_count": 6,
   "metadata": {},
   "outputs": [
    {
     "output_type": "execute_result",
     "data": {
      "text/plain": "   cases_90days  icu_beds  commuting_in      density  percent_democrat  \\\n0          2162        72         54070   393.996419          0.542634   \n1         25811      1606        489235  5450.384359          0.743758   \n2          1845       651        317959  4005.616646          0.509602   \n3          3234      1004         79525   487.509549          0.456797   \n4         19107      2126        483659  2473.507350          0.714072   \n\n   percent_in_poverty  pop_over65  median_age  percent_with_bachelors  \\\n0                 7.5       99868        37.8                    31.9   \n1                13.8      724730        36.6                    38.0   \n2                10.5      440488        37.8                    39.9   \n3                12.3      615277        36.1                    32.0   \n4                14.2     1299277        36.2                    31.8   \n\n   median_income  pop_2019  \n0          87096    822083  \n1          63347   5150233  \n2          89373   3175692  \n3          65234   4485414  \n4          67986  10039107  ",
      "text/html": "<div>\n<style scoped>\n    .dataframe tbody tr th:only-of-type {\n        vertical-align: middle;\n    }\n\n    .dataframe tbody tr th {\n        vertical-align: top;\n    }\n\n    .dataframe thead th {\n        text-align: right;\n    }\n</style>\n<table border=\"1\" class=\"dataframe\">\n  <thead>\n    <tr style=\"text-align: right;\">\n      <th></th>\n      <th>cases_90days</th>\n      <th>icu_beds</th>\n      <th>commuting_in</th>\n      <th>density</th>\n      <th>percent_democrat</th>\n      <th>percent_in_poverty</th>\n      <th>pop_over65</th>\n      <th>median_age</th>\n      <th>percent_with_bachelors</th>\n      <th>median_income</th>\n      <th>pop_2019</th>\n    </tr>\n  </thead>\n  <tbody>\n    <tr>\n      <th>0</th>\n      <td>2162</td>\n      <td>72</td>\n      <td>54070</td>\n      <td>393.996419</td>\n      <td>0.542634</td>\n      <td>7.5</td>\n      <td>99868</td>\n      <td>37.8</td>\n      <td>31.9</td>\n      <td>87096</td>\n      <td>822083</td>\n    </tr>\n    <tr>\n      <th>1</th>\n      <td>25811</td>\n      <td>1606</td>\n      <td>489235</td>\n      <td>5450.384359</td>\n      <td>0.743758</td>\n      <td>13.8</td>\n      <td>724730</td>\n      <td>36.6</td>\n      <td>38.0</td>\n      <td>63347</td>\n      <td>5150233</td>\n    </tr>\n    <tr>\n      <th>2</th>\n      <td>1845</td>\n      <td>651</td>\n      <td>317959</td>\n      <td>4005.616646</td>\n      <td>0.509602</td>\n      <td>10.5</td>\n      <td>440488</td>\n      <td>37.8</td>\n      <td>39.9</td>\n      <td>89373</td>\n      <td>3175692</td>\n    </tr>\n    <tr>\n      <th>3</th>\n      <td>3234</td>\n      <td>1004</td>\n      <td>79525</td>\n      <td>487.509549</td>\n      <td>0.456797</td>\n      <td>12.3</td>\n      <td>615277</td>\n      <td>36.1</td>\n      <td>32.0</td>\n      <td>65234</td>\n      <td>4485414</td>\n    </tr>\n    <tr>\n      <th>4</th>\n      <td>19107</td>\n      <td>2126</td>\n      <td>483659</td>\n      <td>2473.507350</td>\n      <td>0.714072</td>\n      <td>14.2</td>\n      <td>1299277</td>\n      <td>36.2</td>\n      <td>31.8</td>\n      <td>67986</td>\n      <td>10039107</td>\n    </tr>\n  </tbody>\n</table>\n</div>"
     },
     "metadata": {},
     "execution_count": 6
    }
   ],
   "source": [
    "DATA_URL = \"income_processed_70days.csv\"\n",
    "FEATURES = [\n",
    "    \"cases_70days\", \n",
    "    \"icu_beds\", \n",
    "    \"commuting_in\", \n",
    "    \"density\", \n",
    "    \"percent_democrat\", \n",
    "    \"percent_in_poverty\", \n",
    "    \"pop_over65\", \n",
    "    \"median_age\", \n",
    "    \"percent_with_bachelors\", \n",
    "    \"median_income\",\n",
    "    \"pop_2019\"\n",
    "]\n",
    "\n",
    "import pandas as pd\n",
    "\n",
    "raw_df = pd.read_csv(DATA_URL, index_col=0)\n",
    "\n",
    "# select the features\n",
    "processed_df = raw_df.loc[:, FEATURES]\n",
    "processed_df.head()"
   ]
  },
  {
   "cell_type": "code",
   "execution_count": 7,
   "metadata": {},
   "outputs": [],
   "source": [
    "# save selected features\n",
    "processed_df.to_csv(DATA_URL.replace(\"income_processed\", \"999_selected_features\"))"
   ]
  }
 ],
 "metadata": {
  "language_info": {
   "codemirror_mode": {
    "name": "ipython",
    "version": 3
   },
   "file_extension": ".py",
   "mimetype": "text/x-python",
   "name": "python",
   "nbconvert_exporter": "python",
   "pygments_lexer": "ipython3",
   "version": "3.8.2-final"
  },
  "orig_nbformat": 2,
  "kernelspec": {
   "name": "python38264bitvenve0b3e47bc4324dd7bd7481b3aace2c47",
   "display_name": "Python 3.8.2 64-bit ('venv')"
  }
 },
 "nbformat": 4,
 "nbformat_minor": 2
}