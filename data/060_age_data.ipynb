{
 "cells": [
  {
   "cell_type": "markdown",
   "metadata": {},
   "source": [
    "# Process Age Data from the American Community Survey\n",
    "\n",
    "This script adds the age and population data as of 2018 on the county level. This is sourced from American Community Survey data available from the US Census.\n",
    "\n",
    "Data obtained from [here](https://data.census.gov/cedsci/table?q=Older%20Population&hidePreview=true&t=Older%20Population&tid=ACSDP1Y2018.DP05&vintage=2018&g=0100000US.050000)."
   ]
  },
  {
   "cell_type": "code",
   "execution_count": 1,
   "metadata": {},
   "outputs": [],
   "source": [
    "# change this variable to the table of processed data from 050\n",
    "DATA_URL = \"poverty_processed_70days.csv\"\n",
    "\n",
    "import requests\n",
    "import pandas as pd\n",
    "\n",
    "# import all needed data\n",
    "age_data = pd.read_csv(\"acs_age_data.csv\")\n",
    "\n",
    "existing_data = pd.read_csv(DATA_URL, index_col=0)\n"
   ]
  },
  {
   "cell_type": "markdown",
   "metadata": {},
   "source": [
    "After initialization, iterate over the existing rows and add the age data:"
   ]
  },
  {
   "cell_type": "code",
   "execution_count": 2,
   "metadata": {
    "tags": [
     "outputPrepend",
     "outputPrepend",
     "outputPrepend",
     "outputPrepend",
     "outputPrepend",
     "outputPrepend",
     "outputPrepend",
     "outputPrepend",
     "outputPrepend",
     "outputPrepend"
    ]
   },
   "outputs": [],
   "source": [
    "# store updated rows in this list\n",
    "new_df_rows = []\n",
    "for index, row in existing_data.iterrows():\n",
    "    try:\n",
    "        # this throws exception if FIPS isn't found\n",
    "        data_row = age_data.loc[age_data[\"fips\"] == row.fips].iloc[0]\n",
    "\n",
    "        # add the data to the existing row\n",
    "        row[\"pop_under18\"] = data_row[\"pop_under18\"]\n",
    "        row[\"pop_over65\"] = data_row[\"pop_over65\"]\n",
    "        row[\"pop_2018\"] = data_row[\"total_population\"]\n",
    "        row[\"median_age\"] = data_row[\"median_age\"]\n",
    "\n",
    "        new_df_rows.append(row)\n",
    "    except Exception as e:\n",
    "        print(e)\n",
    "        pass"
   ]
  },
  {
   "cell_type": "markdown",
   "metadata": {},
   "source": [
    "Finally, save the rows as a dataframe to a csv"
   ]
  },
  {
   "cell_type": "code",
   "execution_count": 3,
   "metadata": {},
   "outputs": [],
   "source": [
    "new_data_df = pd.DataFrame(new_df_rows)\n",
    "new_data_df.to_csv(DATA_URL.replace(\"poverty\", \"age\"))"
   ]
  }
 ],
 "metadata": {
  "language_info": {
   "codemirror_mode": {
    "name": "ipython",
    "version": 3
   },
   "file_extension": ".py",
   "mimetype": "text/x-python",
   "name": "python",
   "nbconvert_exporter": "python",
   "pygments_lexer": "ipython3",
   "version": "3.8.2-final"
  },
  "orig_nbformat": 2,
  "kernelspec": {
   "name": "python38264bitvenve0b3e47bc4324dd7bd7481b3aace2c47",
   "display_name": "Python 3.8.2 64-bit ('venv')"
  }
 },
 "nbformat": 4,
 "nbformat_minor": 2
}