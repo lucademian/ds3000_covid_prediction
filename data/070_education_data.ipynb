{
 "cells": [
  {
   "cell_type": "markdown",
   "metadata": {},
   "source": [
    "<h1> Process Education Data from the USDA ERS </h1>\n",
    "This script adds education data as of 2018 on the county level. This is sourced from the USDA ERS.\n",
    "\n",
    "Data obtained from [here](https://www.ers.usda.gov/data-products/county-level-data-sets/download-data/)."
   ]
  },
  {
   "cell_type": "code",
   "execution_count": 1,
   "metadata": {},
   "outputs": [],
   "source": [
    "# change this variable to the table of processed data from 050\n",
    "DATA_URL = \"age_processed_60-70-80days.csv\"\n",
    "\n",
    "import pandas as pd\n",
    "\n",
    "# import all needed data\n",
    "education_data = pd.read_csv(\"usda_ers_education_data.csv\")\n",
    "\n",
    "existing_data = pd.read_csv(DATA_URL, index_col=0)\n"
   ]
  },
  {
   "cell_type": "markdown",
   "metadata": {},
   "source": [
    "After initialization, iterate over the existing rows and add the education data:"
   ]
  },
  {
   "cell_type": "code",
   "execution_count": 2,
   "metadata": {},
   "outputs": [],
   "source": [
    "new_df_rows = []\n",
    "for index, row in existing_data.iterrows():\n",
    "    try: \n",
    "        # this throws exception if FIPS isn't found\n",
    "        data_row = education_data.loc[education_data[\"FIPS Code\"] == row.fips].iloc[0]\n",
    "        \n",
    "        # add the data to the existing row\n",
    "        row[\"percent_with_bachelors\"] = data_row[\"Percent of adults with a bachelor's degree or higher, 2014-18\"]\n",
    "\n",
    "        new_df_rows.append(row)\n",
    "    except Exception as e:\n",
    "        #print(e)\n",
    "        pass"
   ]
  },
  {
   "cell_type": "code",
   "execution_count": 3,
   "metadata": {},
   "outputs": [],
   "source": [
    "new_data_df = pd.DataFrame(new_df_rows)\n",
    "new_data_df.to_csv(DATA_URL.replace(\"age\", \"education\"))"
   ]
  },
  {
   "cell_type": "code",
   "execution_count": null,
   "metadata": {},
   "outputs": [],
   "source": []
  }
 ],
 "metadata": {
  "language_info": {
   "codemirror_mode": {
    "name": "ipython",
    "version": 3
   },
   "file_extension": ".py",
   "mimetype": "text/x-python",
   "name": "python",
   "nbconvert_exporter": "python",
   "pygments_lexer": "ipython3",
   "version": "3.8.2-final"
  },
  "orig_nbformat": 2,
  "kernelspec": {
   "name": "python38264bitvenve0b3e47bc4324dd7bd7481b3aace2c47",
   "display_name": "Python 3.8.2 64-bit ('venv')"
  }
 },
 "nbformat": 4,
 "nbformat_minor": 2
}