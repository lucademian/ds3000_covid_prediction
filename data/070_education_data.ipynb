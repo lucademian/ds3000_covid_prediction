{
 "cells": [
  {
   "cell_type": "code",
   "execution_count": 60,
   "metadata": {},
   "outputs": [],
   "source": [
    "# change this variable to the table of processed data from 050\n",
    "DATA_URL = \"age_processed_90days.csv\"\n",
    "\n",
    "import pandas as pd\n",
    "\n",
    "# import all needed data\n",
    "education_data = pd.read_csv(\"usda_ers_education_data.csv\")\n",
    "\n",
    "existing_data = pd.read_csv(DATA_URL, index_col=0)\n"
   ]
  },
  {
   "cell_type": "markdown",
   "metadata": {},
   "source": [
    "After initialization, iterate over the existing rows and add the poverty data:"
   ]
  },
  {
   "cell_type": "code",
   "execution_count": 61,
   "metadata": {},
   "outputs": [],
   "source": [
    "new_df_rows = []\n",
    "for index, row in existing_data.iterrows():\n",
    "    try: \n",
    "        # this throws exception if FIPS isn't found\n",
    "        data_row = education_data.loc[education_data[\"FIPS Code\"] == row.fips].iloc[0]\n",
    "        \n",
    "        # add the data to the existing row\n",
    "        row[\"percent_with_bachelors\"] = data_row[\"Percent of adults with a bachelor's degree or higher, 2014-18\"]\n",
    "\n",
    "        new_df_rows.append(row)\n",
    "    except Exception as e:\n",
    "        #print(e)\n",
    "        pass"
   ]
  },
  {
   "cell_type": "code",
   "execution_count": 64,
   "metadata": {},
   "outputs": [],
   "source": [
    "new_data_df = pd.DataFrame(new_df_rows)\n",
    "new_data_df.to_csv(DATA_URL.replace(\"political_majority\", \"education\"))"
   ]
  },
  {
   "cell_type": "code",
   "execution_count": null,
   "metadata": {},
   "outputs": [],
   "source": []
  }
 ],
 "metadata": {
  "language_info": {
   "codemirror_mode": {
    "name": "ipython",
    "version": 3
   },
   "file_extension": ".py",
   "mimetype": "text/x-python",
   "name": "python",
   "nbconvert_exporter": "python",
   "pygments_lexer": "ipython3",
   "version": "3.8.3-final"
  },
  "orig_nbformat": 2,
  "kernelspec": {
   "name": "python38332bit3ade8eb8817e4ab89e5ca4281715c8b4",
   "display_name": "Python 3.8.3 32-bit"
  }
 },
 "nbformat": 4,
 "nbformat_minor": 2
}