{
 "cells": [
  {
   "cell_type": "markdown",
   "metadata": {},
   "source": [
    "# Process Income Data from the USDA ERS\n",
    "This script adds income data as of 2018 on the county level. This is sourced from the USDA ERS.\n",
    "\n",
    "Data obtained from [here](https://www.ers.usda.gov/data-products/county-level-data-sets/download-data/)."
   ]
  },
  {
   "cell_type": "code",
   "execution_count": 1,
   "metadata": {},
   "outputs": [],
   "source": [
    "# change this variable to the table of processed data from 050\n",
    "DATA_URL = \"education_processed_60-70-80days.csv\"\n",
    "\n",
    "import requests\n",
    "import pandas as pd\n",
    "\n",
    "# import all needed data\n",
    "income_data = pd.read_csv(\"income_data.csv\")\n",
    "\n",
    "existing_data = pd.read_csv(DATA_URL, index_col=0)"
   ]
  },
  {
   "cell_type": "markdown",
   "metadata": {},
   "source": [
    "After initialization, iterate over the existing rows and add the data:"
   ]
  },
  {
   "cell_type": "code",
   "execution_count": 2,
   "metadata": {
    "tags": [
     "outputPrepend"
    ]
   },
   "outputs": [],
   "source": [
    "new_df_rows = []\n",
    "for index, row in existing_data.iterrows():\n",
    "    try: \n",
    "        \n",
    "        # this throws exception if FIPS isn't found\n",
    "        data_row = income_data.loc[income_data[\"FIPStxt\"] == row.fips].iloc[0]\n",
    "\n",
    "        # add the data to the existing row\n",
    "        row[\"median_income\"] = int(data_row[\"Median_Household_Income_2018\"].replace(\",\", \"\"))\n",
    "\n",
    "        new_df_rows.append(row)\n",
    "    except Exception as e:\n",
    "        pass\n"
   ]
  },
  {
   "cell_type": "code",
   "execution_count": 3,
   "metadata": {},
   "outputs": [],
   "source": [
    "new_df = pd.DataFrame(new_df_rows)\n",
    "new_df.to_csv(DATA_URL.replace(\"education\", \"income\"))"
   ]
  },
  {
   "cell_type": "code",
   "execution_count": null,
   "metadata": {},
   "outputs": [],
   "source": []
  }
 ],
 "metadata": {
  "language_info": {
   "codemirror_mode": {
    "name": "ipython",
    "version": 3
   },
   "file_extension": ".py",
   "mimetype": "text/x-python",
   "name": "python",
   "nbconvert_exporter": "python",
   "pygments_lexer": "ipython3",
   "version": "3.8.2-final"
  },
  "orig_nbformat": 2,
  "kernelspec": {
   "name": "python38264bitvenve0b3e47bc4324dd7bd7481b3aace2c47",
   "display_name": "Python 3.8.2 64-bit ('venv')"
  }
 },
 "nbformat": 4,
 "nbformat_minor": 2
}