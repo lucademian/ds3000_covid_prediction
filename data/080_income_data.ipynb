{
 "cells": [
  {
   "cell_type": "code",
   "execution_count": 49,
   "metadata": {},
   "outputs": [],
   "source": [
    "# change this variable to the table of processed data from 050\n",
    "DATA_URL = \"education_processed_90days.csv\"\n",
    "\n",
    "import requests\n",
    "import pandas as pd\n",
    "\n",
    "# import all needed data\n",
    "income_data = pd.read_csv(\"income_data.csv\")\n",
    "\n",
    "existing_data = pd.read_csv(DATA_URL, index_col=0)"
   ]
  },
  {
   "cell_type": "markdown",
   "metadata": {},
   "source": [
    "After initialization, iterate over the existing rows and add the poverty data:"
   ]
  },
  {
   "cell_type": "code",
   "execution_count": 64,
   "metadata": {
    "tags": [
     "outputPrepend"
    ]
   },
   "outputs": [],
   "source": [
    "new_df_rows = []\n",
    "for index, row in existing_data.iterrows():\n",
    "    try: \n",
    "        \n",
    "        # this throws exception if FIPS isn't found\n",
    "        data_row = income_data.loc[income_data[\"FIPStxt\"] == row.fips].iloc[0]\n",
    "\n",
    "        # add the data to the existing row\n",
    "        row[\"median_income\"] = data_row[\"Median_Household_Income_2018\"]\n",
    "\n",
    "        new_df_rows.append(row)\n",
    "    except Exception as e:\n",
    "        #print(e)\n",
    "        pass\n"
   ]
  },
  {
   "cell_type": "code",
   "execution_count": 66,
   "metadata": {},
   "outputs": [],
   "source": [
    "new_df = pd.DataFrame(new_df_rows)\n",
    "new_df.to_csv(DATA_URL.replace(\"education\", \"income\"))"
   ]
  },
  {
   "cell_type": "code",
   "execution_count": null,
   "metadata": {},
   "outputs": [],
   "source": []
  }
 ],
 "metadata": {
  "language_info": {
   "codemirror_mode": {
    "name": "ipython",
    "version": 3
   },
   "file_extension": ".py",
   "mimetype": "text/x-python",
   "name": "python",
   "nbconvert_exporter": "python",
   "pygments_lexer": "ipython3",
   "version": "3.8.3-final"
  },
  "orig_nbformat": 2,
  "kernelspec": {
   "name": "python38332bit3ade8eb8817e4ab89e5ca4281715c8b4",
   "display_name": "Python 3.8.3 32-bit"
  }
 },
 "nbformat": 4,
 "nbformat_minor": 2
}