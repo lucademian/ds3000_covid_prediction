{
 "cells": [
  {
   "cell_type": "markdown",
   "metadata": {},
   "source": [
    "# Process US Census Population Density Data\n",
    "\n",
    "This script adds the US Census Population Density data in order to get a count of people per unit area for each county in the dataset.\n",
    "\n",
    "Data obtained from uscensus.gov, available [here](https://api.census.gov/data/2019/pep/population?get=DENSITY,POP&for=county:*) (YEAR 2019)"
   ]
  },
  {
   "cell_type": "code",
   "execution_count": 1,
   "metadata": {},
   "outputs": [],
   "source": [
    "# change this variable to the table of processed data from 010\n",
    "DATA_URL = \"commuting_flows_processed_70days.csv\"\n",
    "\n",
    "import requests\n",
    "import pandas as pd\n",
    "\n",
    "# import all needed data\n",
    "get_data = requests.get(\"https://api.census.gov/data/2019/pep/population?get=DENSITY,POP&for=county:*\").json()\n",
    "census_df = pd.DataFrame(get_data[1:], columns=get_data[0])\n",
    "\n",
    "commuting_df = pd.read_csv(DATA_URL, index_col=0)"
   ]
  },
  {
   "cell_type": "markdown",
   "metadata": {},
   "source": [
    "After initialization, iterate over the existing rows and add the population density data:"
   ]
  },
  {
   "cell_type": "code",
   "execution_count": 2,
   "metadata": {
    "tags": [
     "outputPrepend",
     "outputPrepend",
     "outputPrepend",
     "outputPrepend",
     "outputPrepend",
     "outputPrepend",
     "outputPrepend",
     "outputPrepend",
     "outputPrepend",
     "outputPrepend"
    ]
   },
   "outputs": [],
   "source": [
    "# store updated rows in this list\n",
    "new_df_rows = []\n",
    "for index, row in commuting_df.iterrows():\n",
    "    # find the rows involving this FIPS\n",
    "    string_fips = f\"{row.fips:05}\"\n",
    "    try:\n",
    "        # this throws exception if FIPS isn't found\n",
    "        data_row = census_df.loc[(census_df.state == string_fips[0:2]) & (census_df.county == string_fips[2:])].iloc[0]\n",
    "\n",
    "        # add the data to the existing row\n",
    "        row[\"density\"] = data_row[\"DENSITY\"]\n",
    "        row[\"pop_2019\"] = data_row[\"POP\"]\n",
    "\n",
    "        new_df_rows.append(row)\n",
    "    except Exception as e:\n",
    "        print(e)\n",
    "        pass"
   ]
  },
  {
   "cell_type": "markdown",
   "metadata": {},
   "source": [
    "Finally, save the rows as a dataframe to a csv"
   ]
  },
  {
   "cell_type": "code",
   "execution_count": 3,
   "metadata": {},
   "outputs": [],
   "source": [
    "new_data_df = pd.DataFrame(new_df_rows)\n",
    "new_data_df.to_csv(DATA_URL.replace(\"commuting_flows\", \"population_density\"))"
   ]
  }
 ],
 "metadata": {
  "language_info": {
   "codemirror_mode": {
    "name": "ipython",
    "version": 3
   },
   "file_extension": ".py",
   "mimetype": "text/x-python",
   "name": "python",
   "nbconvert_exporter": "python",
   "pygments_lexer": "ipython3",
   "version": "3.8.2-final"
  },
  "orig_nbformat": 2,
  "kernelspec": {
   "name": "python38264bitvenve0b3e47bc4324dd7bd7481b3aace2c47",
   "display_name": "Python 3.8.2 64-bit ('venv')"
  }
 },
 "nbformat": 4,
 "nbformat_minor": 2
}