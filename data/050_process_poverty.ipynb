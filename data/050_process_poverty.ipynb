{
 "cells": [
  {
   "cell_type": "markdown",
   "metadata": {},
   "source": [
    "# Process Poverty (percent of people in poverty, all ages)\n",
    "\n",
    "This script adds the poverty data in as percent of people of all ages in poverty in 2018 for each county in the dataset.\n",
    "\n",
    "Data obtained from [here](https://www.ers.usda.gov/data-products/county-level-data-sets/download-data/)."
   ]
  },
  {
   "cell_type": "code",
   "execution_count": 1,
   "metadata": {},
   "outputs": [],
   "source": [
    "# change this variable to the table of processed data from 010\n",
    "DATA_URL = \"political_majority_processed_70days.csv\"\n",
    "\n",
    "import requests\n",
    "import pandas as pd\n",
    "\n",
    "# import all needed data\n",
    "poverty_data = pd.read_csv(\"PovertyEstimates.csv\")\n",
    "\n",
    "existing_data = pd.read_csv(DATA_URL, index_col=0)\n"
   ]
  },
  {
   "cell_type": "markdown",
   "metadata": {},
   "source": [
    "After initialization, iterate over the existing rows and add the poverty data:"
   ]
  },
  {
   "cell_type": "code",
   "execution_count": 2,
   "metadata": {
    "tags": [
     "outputPrepend",
     "outputPrepend",
     "outputPrepend",
     "outputPrepend",
     "outputPrepend",
     "outputPrepend",
     "outputPrepend",
     "outputPrepend",
     "outputPrepend",
     "outputPrepend"
    ]
   },
   "outputs": [],
   "source": [
    "# store updated rows in this list\n",
    "new_df_rows = []\n",
    "for index, row in existing_data.iterrows():\n",
    "    try:\n",
    "        # this throws exception if FIPS isn't found\n",
    "        data_row = poverty_data.loc[poverty_data[\"FIPStxt\"] == row.fips].iloc[0]\n",
    "\n",
    "        # add the data to the existing row\n",
    "        row[\"percent_in_poverty\"] = data_row[\"PCTPOVALL_2018\"]\n",
    "\n",
    "        new_df_rows.append(row)\n",
    "    except Exception as e:\n",
    "        print(e)\n",
    "        pass"
   ]
  },
  {
   "cell_type": "markdown",
   "metadata": {},
   "source": [
    "Finally, save the rows as a dataframe to a csv"
   ]
  },
  {
   "cell_type": "code",
   "execution_count": 3,
   "metadata": {},
   "outputs": [],
   "source": [
    "new_data_df = pd.DataFrame(new_df_rows)\n",
    "new_data_df.to_csv(DATA_URL.replace(\"political_majority\", \"poverty\"))"
   ]
  }
 ],
 "metadata": {
  "language_info": {
   "codemirror_mode": {
    "name": "ipython",
    "version": 3
   },
   "file_extension": ".py",
   "mimetype": "text/x-python",
   "name": "python",
   "nbconvert_exporter": "python",
   "pygments_lexer": "ipython3",
   "version": "3.8.3-final"
  },
  "orig_nbformat": 2,
  "kernelspec": {
   "name": "python38332bit3ade8eb8817e4ab89e5ca4281715c8b4",
   "display_name": "Python 3.8.3 32-bit"
  }
 },
 "nbformat": 4,
 "nbformat_minor": 2
}