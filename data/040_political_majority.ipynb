{
 "cells": [
  {
   "cell_type": "markdown",
   "metadata": {},
   "source": [
    "# Process Political Majority (percent democrat/gop in 2016 election by county)\n",
    "\n",
    "This script adds the political majority data in order to percent voting gop and percent voting democrat in the 2016 election for each county in the dataset.\n",
    "\n",
    "Data obtained from [here](https://github.com/tonmcg/US_County_Level_Election_Results_08-16/blob/master/2016_US_County_Level_Presidential_Results.csv)"
   ]
  },
  {
   "cell_type": "code",
   "execution_count": 1,
   "metadata": {},
   "outputs": [],
   "source": [
    "# change this variable to the table of processed data from 010\n",
    "DATA_URL = \"population_density_processed_60-70-80days.csv\"\n",
    "\n",
    "import requests\n",
    "import pandas as pd\n",
    "\n",
    "# import all needed data\n",
    "politic_data = pd.read_csv(\"2016_US_County_Level_Presidential_Results.csv\", index_col=0)\n",
    "\n",
    "existing_data = pd.read_csv(DATA_URL, index_col=0)"
   ]
  },
  {
   "cell_type": "markdown",
   "metadata": {},
   "source": [
    "After initialization, iterate over the existing rows and add the political majority data:"
   ]
  },
  {
   "cell_type": "code",
   "execution_count": 2,
   "metadata": {
    "tags": [
     "outputPrepend",
     "outputPrepend",
     "outputPrepend",
     "outputPrepend",
     "outputPrepend",
     "outputPrepend",
     "outputPrepend",
     "outputPrepend",
     "outputPrepend",
     "outputPrepend"
    ]
   },
   "outputs": [
    {
     "output_type": "stream",
     "name": "stdout",
     "text": "single positional indexer is out-of-bounds\n"
    }
   ],
   "source": [
    "# store updated rows in this list\n",
    "new_df_rows = []\n",
    "for index, row in existing_data.iterrows():\n",
    "    try:\n",
    "        # this throws exception if FIPS isn't found\n",
    "        data_row = politic_data.loc[politic_data.combined_fips == row.fips].iloc[0]\n",
    "\n",
    "        # add the data to the existing row\n",
    "        row[\"percent_democrat\"] = data_row[\"per_dem\"]\n",
    "        row[\"percent_gop\"] = data_row[\"per_gop\"]\n",
    "\n",
    "        new_df_rows.append(row)\n",
    "    except Exception as e:\n",
    "        print(e)\n",
    "        pass"
   ]
  },
  {
   "cell_type": "markdown",
   "metadata": {},
   "source": [
    "Finally, save the rows as a dataframe to a csv"
   ]
  },
  {
   "cell_type": "code",
   "execution_count": 3,
   "metadata": {},
   "outputs": [],
   "source": [
    "new_data_df = pd.DataFrame(new_df_rows)\n",
    "new_data_df.to_csv(DATA_URL.replace(\"population_density\", \"political_majority\"))"
   ]
  },
  {
   "cell_type": "code",
   "execution_count": null,
   "metadata": {},
   "outputs": [],
   "source": []
  }
 ],
 "metadata": {
  "language_info": {
   "codemirror_mode": {
    "name": "ipython",
    "version": 3
   },
   "file_extension": ".py",
   "mimetype": "text/x-python",
   "name": "python",
   "nbconvert_exporter": "python",
   "pygments_lexer": "ipython3",
   "version": "3.8.2-final"
  },
  "orig_nbformat": 2,
  "kernelspec": {
   "name": "python38264bitvenve0b3e47bc4324dd7bd7481b3aace2c47",
   "display_name": "Python 3.8.2 64-bit ('venv')"
  }
 },
 "nbformat": 4,
 "nbformat_minor": 2
}