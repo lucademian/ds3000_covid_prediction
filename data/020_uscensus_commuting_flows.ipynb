{
 "cells": [
  {
   "cell_type": "markdown",
   "metadata": {},
   "source": [
    "# Process US Census Commuting Flows\n",
    "\n",
    "This script adds the US Census Commuting Flow data in order to get a count of people commuting into and out of each county in the dataset.\n",
    "\n",
    "Data obtained from uscensus.gov, available [here](https://www.census.gov/data/tables/2015/demo/metro-micro/commuting-flows-2015.html) (table 1 and table 2 in particular)"
   ]
  },
  {
   "cell_type": "code",
   "execution_count": 1,
   "metadata": {},
   "outputs": [],
   "source": [
    "# change this variable to the table of processed data from 010\n",
    "DATA_URL = \"kaiser_processed_70days.csv\"\n",
    "\n",
    "import pandas as pd\n",
    "\n",
    "def read_as_string(val):\n",
    "    return str(val)\n",
    "\n",
    "# import all needed data\n",
    "kaiser_df = pd.read_csv(DATA_URL, index_col=0)\n",
    "\n",
    "# this uses convertors to ensure that the imported FIPS codes keep the leading zeros\n",
    "commuting_df = pd.read_csv(\"uscensus_commuting_flows.csv\", converters={\n",
    "    \"res_state_fips\": read_as_string,\n",
    "    \"res_county_fips\": read_as_string,\n",
    "    \"dest_state_fips\": read_as_string,\n",
    "    \"dest_county_fips\": read_as_string,\n",
    "})"
   ]
  },
  {
   "cell_type": "markdown",
   "metadata": {},
   "source": [
    "After initialization, iterate over the existing rows and add the commuting data:"
   ]
  },
  {
   "cell_type": "code",
   "execution_count": 2,
   "metadata": {
    "tags": [
     "outputPrepend",
     "outputPrepend",
     "outputPrepend",
     "outputPrepend",
     "outputPrepend",
     "outputPrepend",
     "outputPrepend",
     "outputPrepend",
     "outputPrepend",
     "outputPrepend"
    ]
   },
   "outputs": [],
   "source": [
    "# store updated rows in this list\n",
    "new_df_rows = []\n",
    "for index, row in kaiser_df.iterrows():\n",
    "    # find the rows involving this FIPS\n",
    "    string_fips = f\"{row.fips:05}\"\n",
    "    dest_rows = commuting_df.loc[(commuting_df.dest_state_fips.str[1:] == string_fips[:2]) & (commuting_df.dest_county_fips == string_fips[2:])]\n",
    "    res_rows = commuting_df.loc[(commuting_df.res_state_fips == string_fips[:2]) & (commuting_df.res_county_fips == string_fips[2:])]\n",
    "\n",
    "    # filter out commuting from this county to this county\n",
    "    commuting_within = dest_rows.loc[dest_rows.dest_county_fips == dest_rows.res_county_fips]\n",
    "    dest_rows = dest_rows.loc[dest_rows.dest_county_fips != dest_rows.res_county_fips]\n",
    "    res_rows = res_rows.loc[res_rows.dest_county_fips != res_rows.res_county_fips]\n",
    "\n",
    "    # sum the workers in each category and add to the row\n",
    "    row[\"commuting_within\"] = int(commuting_within.workers.sum())\n",
    "    row[\"commuting_out\"] = int(res_rows.workers.sum())\n",
    "    row[\"commuting_in\"] = int(dest_rows.workers.sum())\n",
    "\n",
    "    new_df_rows.append(row)"
   ]
  },
  {
   "cell_type": "markdown",
   "metadata": {},
   "source": [
    "Finally, save the rows as a dataframe to a csv"
   ]
  },
  {
   "cell_type": "code",
   "execution_count": 3,
   "metadata": {},
   "outputs": [],
   "source": [
    "new_data_df = pd.DataFrame(new_df_rows)\n",
    "new_data_df.to_csv(DATA_URL.replace(\"kaiser\", \"commuting_flows\"))"
   ]
  }
 ],
 "metadata": {
  "language_info": {
   "codemirror_mode": {
    "name": "ipython",
    "version": 3
   },
   "file_extension": ".py",
   "mimetype": "text/x-python",
   "name": "python",
   "nbconvert_exporter": "python",
   "pygments_lexer": "ipython3",
   "version": "3.8.3-final"
  },
  "orig_nbformat": 2,
  "kernelspec": {
   "name": "python38332bit3ade8eb8817e4ab89e5ca4281715c8b4",
   "display_name": "Python 3.8.3 32-bit"
  }
 },
 "nbformat": 4,
 "nbformat_minor": 2
}